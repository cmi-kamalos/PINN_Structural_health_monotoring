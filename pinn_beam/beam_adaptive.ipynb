{
  "cells": [
    {
      "cell_type": "markdown",
      "metadata": {
        "id": "i5SkXKFTnAmc"
      },
      "source": [
        "**Simple supported beam adaptive method with elasticity consideration**\n",
        "\n",
        "\n",
        "\n"
      ]
    },
    {
      "cell_type": "markdown",
      "source": [
        "Here in this case refered to Ehsan et al works in ***A deep learning framework for solution and discovery in solid mechanics***. We don't have to reconsider much temporal solutions for the beam state. All these have to be included to the lost function in training phase. They used Sciann for higher complexity for solving different problems and approached elasticity  as 2D solving displacement through x and y axis.\n",
        "\n",
        "I worked background to update boundaries to accept two dimentional inputs (x,y) and target one or two considered axis.\n",
        "\n",
        "The beam equation result on \n",
        "\\begin{align} \n",
        " EI\\frac{\\partial^4 w}{\\partial x^4} +\\mu\\frac{\\partial^2 w}{\\partial t^2} =q(x)   \n",
        "\\end{align}\n",
        "\n",
        "are turned to simply to\n",
        "\n",
        "\\begin{align} \n",
        " EI\\frac{\\partial^4 w}{\\partial x^4}=q(x)\n",
        "\\end{align}\n",
        "\n",
        "as an ordinary differential equation"
      ],
      "metadata": {
        "id": "z-ULQws3ZvNM"
      }
    },
    {
      "cell_type": "markdown",
      "metadata": {
        "id": "QlnAs7Iynf9w"
      },
      "source": [
        "cloning from github essentials files"
      ]
    },
    {
      "cell_type": "code",
      "execution_count": 262,
      "metadata": {
        "id": "RH3YD36ZnvfP",
        "colab": {
          "base_uri": "https://localhost:8080/"
        },
        "outputId": "3fea5537-f3b9-4d72-ad93-7fa3852b4be5"
      },
      "outputs": [
        {
          "output_type": "stream",
          "name": "stdout",
          "text": [
            "fatal: destination path 'PINN_Structural_health_monotoring' already exists and is not an empty directory.\n"
          ]
        }
      ],
      "source": [
        "! git  clone --recursive  https://github.com/cmi-kamalos/PINN_Structural_health_monotoring"
      ]
    },
    {
      "cell_type": "markdown",
      "metadata": {
        "id": "_Xde7G8bn2By"
      },
      "source": [
        "switching to tensordiff folders (forked works from tensordiffeq)"
      ]
    },
    {
      "cell_type": "code",
      "execution_count": 263,
      "metadata": {
        "id": "V2dU__KFYXAY",
        "colab": {
          "base_uri": "https://localhost:8080/"
        },
        "outputId": "8e5d16e1-8f3d-4a9a-d596-ac0f6ae8a9cd"
      },
      "outputs": [
        {
          "output_type": "stream",
          "name": "stdout",
          "text": [
            "/content/PINN_Structural_health_monotoring/from_tensordiff\n"
          ]
        }
      ],
      "source": [
        "cd /content/PINN_Structural_health_monotoring/from_tensordiff"
      ]
    },
    {
      "cell_type": "code",
      "execution_count": 264,
      "metadata": {
        "id": "b-hPFzMZGz-o",
        "colab": {
          "base_uri": "https://localhost:8080/"
        },
        "outputId": "17779409-dc21-4d27-b92c-7154ea591d74"
      },
      "outputs": [
        {
          "output_type": "stream",
          "name": "stdout",
          "text": [
            "Looking in indexes: https://pypi.org/simple, https://us-python.pkg.dev/colab-wheels/public/simple/\n",
            "Requirement already satisfied: tensorflow in /usr/local/lib/python3.7/dist-packages (2.8.2+zzzcolab20220719082949)\n",
            "Requirement already satisfied: absl-py>=0.4.0 in /usr/local/lib/python3.7/dist-packages (from tensorflow) (1.2.0)\n",
            "Requirement already satisfied: opt-einsum>=2.3.2 in /usr/local/lib/python3.7/dist-packages (from tensorflow) (3.3.0)\n",
            "Requirement already satisfied: keras-preprocessing>=1.1.1 in /usr/local/lib/python3.7/dist-packages (from tensorflow) (1.1.2)\n",
            "Requirement already satisfied: tensorflow-estimator<2.9,>=2.8 in /usr/local/lib/python3.7/dist-packages (from tensorflow) (2.8.0)\n",
            "Requirement already satisfied: gast>=0.2.1 in /usr/local/lib/python3.7/dist-packages (from tensorflow) (0.5.3)\n",
            "Requirement already satisfied: astunparse>=1.6.0 in /usr/local/lib/python3.7/dist-packages (from tensorflow) (1.6.3)\n",
            "Requirement already satisfied: wrapt>=1.11.0 in /usr/local/lib/python3.7/dist-packages (from tensorflow) (1.14.1)\n",
            "Requirement already satisfied: grpcio<2.0,>=1.24.3 in /usr/local/lib/python3.7/dist-packages (from tensorflow) (1.47.0)\n",
            "Requirement already satisfied: keras<2.9,>=2.8.0rc0 in /usr/local/lib/python3.7/dist-packages (from tensorflow) (2.8.0)\n",
            "Requirement already satisfied: protobuf<3.20,>=3.9.2 in /usr/local/lib/python3.7/dist-packages (from tensorflow) (3.17.3)\n",
            "Requirement already satisfied: numpy>=1.20 in /usr/local/lib/python3.7/dist-packages (from tensorflow) (1.21.6)\n",
            "Requirement already satisfied: tensorboard<2.9,>=2.8 in /usr/local/lib/python3.7/dist-packages (from tensorflow) (2.8.0)\n",
            "Requirement already satisfied: google-pasta>=0.1.1 in /usr/local/lib/python3.7/dist-packages (from tensorflow) (0.2.0)\n",
            "Requirement already satisfied: setuptools in /usr/local/lib/python3.7/dist-packages (from tensorflow) (57.4.0)\n",
            "Requirement already satisfied: libclang>=9.0.1 in /usr/local/lib/python3.7/dist-packages (from tensorflow) (14.0.6)\n",
            "Requirement already satisfied: flatbuffers>=1.12 in /usr/local/lib/python3.7/dist-packages (from tensorflow) (2.0.7)\n",
            "Requirement already satisfied: six>=1.12.0 in /usr/local/lib/python3.7/dist-packages (from tensorflow) (1.15.0)\n",
            "Requirement already satisfied: termcolor>=1.1.0 in /usr/local/lib/python3.7/dist-packages (from tensorflow) (1.1.0)\n",
            "Requirement already satisfied: h5py>=2.9.0 in /usr/local/lib/python3.7/dist-packages (from tensorflow) (3.1.0)\n",
            "Requirement already satisfied: tensorflow-io-gcs-filesystem>=0.23.1 in /usr/local/lib/python3.7/dist-packages (from tensorflow) (0.26.0)\n",
            "Requirement already satisfied: typing-extensions>=3.6.6 in /usr/local/lib/python3.7/dist-packages (from tensorflow) (4.1.1)\n",
            "Requirement already satisfied: wheel<1.0,>=0.23.0 in /usr/local/lib/python3.7/dist-packages (from astunparse>=1.6.0->tensorflow) (0.37.1)\n",
            "Requirement already satisfied: cached-property in /usr/local/lib/python3.7/dist-packages (from h5py>=2.9.0->tensorflow) (1.5.2)\n",
            "Requirement already satisfied: google-auth<3,>=1.6.3 in /usr/local/lib/python3.7/dist-packages (from tensorboard<2.9,>=2.8->tensorflow) (1.35.0)\n",
            "Requirement already satisfied: google-auth-oauthlib<0.5,>=0.4.1 in /usr/local/lib/python3.7/dist-packages (from tensorboard<2.9,>=2.8->tensorflow) (0.4.6)\n",
            "Requirement already satisfied: werkzeug>=0.11.15 in /usr/local/lib/python3.7/dist-packages (from tensorboard<2.9,>=2.8->tensorflow) (1.0.1)\n",
            "Requirement already satisfied: tensorboard-plugin-wit>=1.6.0 in /usr/local/lib/python3.7/dist-packages (from tensorboard<2.9,>=2.8->tensorflow) (1.8.1)\n",
            "Requirement already satisfied: tensorboard-data-server<0.7.0,>=0.6.0 in /usr/local/lib/python3.7/dist-packages (from tensorboard<2.9,>=2.8->tensorflow) (0.6.1)\n",
            "Requirement already satisfied: requests<3,>=2.21.0 in /usr/local/lib/python3.7/dist-packages (from tensorboard<2.9,>=2.8->tensorflow) (2.23.0)\n",
            "Requirement already satisfied: markdown>=2.6.8 in /usr/local/lib/python3.7/dist-packages (from tensorboard<2.9,>=2.8->tensorflow) (3.4.1)\n",
            "Requirement already satisfied: rsa<5,>=3.1.4 in /usr/local/lib/python3.7/dist-packages (from google-auth<3,>=1.6.3->tensorboard<2.9,>=2.8->tensorflow) (4.9)\n",
            "Requirement already satisfied: pyasn1-modules>=0.2.1 in /usr/local/lib/python3.7/dist-packages (from google-auth<3,>=1.6.3->tensorboard<2.9,>=2.8->tensorflow) (0.2.8)\n",
            "Requirement already satisfied: cachetools<5.0,>=2.0.0 in /usr/local/lib/python3.7/dist-packages (from google-auth<3,>=1.6.3->tensorboard<2.9,>=2.8->tensorflow) (4.2.4)\n",
            "Requirement already satisfied: requests-oauthlib>=0.7.0 in /usr/local/lib/python3.7/dist-packages (from google-auth-oauthlib<0.5,>=0.4.1->tensorboard<2.9,>=2.8->tensorflow) (1.3.1)\n",
            "Requirement already satisfied: importlib-metadata>=4.4 in /usr/local/lib/python3.7/dist-packages (from markdown>=2.6.8->tensorboard<2.9,>=2.8->tensorflow) (4.12.0)\n",
            "Requirement already satisfied: zipp>=0.5 in /usr/local/lib/python3.7/dist-packages (from importlib-metadata>=4.4->markdown>=2.6.8->tensorboard<2.9,>=2.8->tensorflow) (3.8.1)\n",
            "Requirement already satisfied: pyasn1<0.5.0,>=0.4.6 in /usr/local/lib/python3.7/dist-packages (from pyasn1-modules>=0.2.1->google-auth<3,>=1.6.3->tensorboard<2.9,>=2.8->tensorflow) (0.4.8)\n",
            "Requirement already satisfied: idna<3,>=2.5 in /usr/local/lib/python3.7/dist-packages (from requests<3,>=2.21.0->tensorboard<2.9,>=2.8->tensorflow) (2.10)\n",
            "Requirement already satisfied: urllib3!=1.25.0,!=1.25.1,<1.26,>=1.21.1 in /usr/local/lib/python3.7/dist-packages (from requests<3,>=2.21.0->tensorboard<2.9,>=2.8->tensorflow) (1.24.3)\n",
            "Requirement already satisfied: chardet<4,>=3.0.2 in /usr/local/lib/python3.7/dist-packages (from requests<3,>=2.21.0->tensorboard<2.9,>=2.8->tensorflow) (3.0.4)\n",
            "Requirement already satisfied: certifi>=2017.4.17 in /usr/local/lib/python3.7/dist-packages (from requests<3,>=2.21.0->tensorboard<2.9,>=2.8->tensorflow) (2022.6.15)\n",
            "Requirement already satisfied: oauthlib>=3.0.0 in /usr/local/lib/python3.7/dist-packages (from requests-oauthlib>=0.7.0->google-auth-oauthlib<0.5,>=0.4.1->tensorboard<2.9,>=2.8->tensorflow) (3.2.0)\n"
          ]
        }
      ],
      "source": [
        "pip install tensorflow"
      ]
    },
    {
      "cell_type": "code",
      "execution_count": 265,
      "metadata": {
        "id": "ZXJ1fSQ6O4pz",
        "colab": {
          "base_uri": "https://localhost:8080/"
        },
        "outputId": "e9402444-0851-41dd-ec59-960bfda86f2d"
      },
      "outputs": [
        {
          "output_type": "stream",
          "name": "stdout",
          "text": [
            "Looking in indexes: https://pypi.org/simple, https://us-python.pkg.dev/colab-wheels/public/simple/\n",
            "Requirement already satisfied: pyDOE2 in /usr/local/lib/python3.7/dist-packages (1.3.0)\n",
            "Requirement already satisfied: numpy in /usr/local/lib/python3.7/dist-packages (from pyDOE2) (1.21.6)\n",
            "Requirement already satisfied: scipy in /usr/local/lib/python3.7/dist-packages (from pyDOE2) (1.7.3)\n"
          ]
        }
      ],
      "source": [
        " pip install pyDOE2"
      ]
    },
    {
      "cell_type": "code",
      "execution_count": 266,
      "metadata": {
        "id": "PWBR9fcmUy_Y",
        "colab": {
          "base_uri": "https://localhost:8080/"
        },
        "outputId": "77c27184-5e99-491b-cd03-8fd7fadd2a8c"
      },
      "outputs": [
        {
          "output_type": "stream",
          "name": "stdout",
          "text": [
            "Looking in indexes: https://pypi.org/simple, https://us-python.pkg.dev/colab-wheels/public/simple/\n",
            "Requirement already satisfied: tqdm in /usr/local/lib/python3.7/dist-packages (4.64.0)\n"
          ]
        }
      ],
      "source": [
        "pip install tqdm\n"
      ]
    },
    {
      "cell_type": "code",
      "execution_count": 267,
      "metadata": {
        "id": "RByeRGWT6a2m",
        "colab": {
          "base_uri": "https://localhost:8080/"
        },
        "outputId": "38126e9a-6c03-4ccc-941f-d2aa0174f970"
      },
      "outputs": [
        {
          "output_type": "stream",
          "name": "stdout",
          "text": [
            "Looking in indexes: https://pypi.org/simple, https://us-python.pkg.dev/colab-wheels/public/simple/\n",
            "Requirement already satisfied: pyfiglet in /usr/local/lib/python3.7/dist-packages (0.8.post1)\n"
          ]
        }
      ],
      "source": [
        "pip install pyfiglet"
      ]
    },
    {
      "cell_type": "code",
      "execution_count": 268,
      "metadata": {
        "id": "v52l1czzOVef"
      },
      "outputs": [],
      "source": [
        "import math\n",
        "import os\n",
        "import numpy as np\n",
        "import sys\n",
        "import inspect\n",
        "import tensorflow as tf\n",
        "import os\n"
      ]
    },
    {
      "cell_type": "code",
      "execution_count": 268,
      "metadata": {
        "id": "YVr8Po3kCroj"
      },
      "outputs": [],
      "source": []
    },
    {
      "cell_type": "code",
      "execution_count": 269,
      "metadata": {
        "id": "Z9z0VYp9xJ-d"
      },
      "outputs": [],
      "source": [
        "import utils\n",
        "import domains\n",
        "import models \n",
        "import plotting\n",
        "import bnd\n",
        "import helpers\n",
        "import networks\n",
        "import output\n",
        "import sampling\n",
        "import fit\n",
        "import __init__\n"
      ]
    },
    {
      "cell_type": "markdown",
      "metadata": {
        "id": "G7RU3m6MCGlg"
      },
      "source": []
    },
    {
      "cell_type": "markdown",
      "metadata": {
        "id": "pyv7R62Y6QuB"
      },
      "source": [
        "tensordiff *essentials* **package**"
      ]
    },
    {
      "cell_type": "code",
      "execution_count": 270,
      "metadata": {
        "id": "uo3Ups8-6brI"
      },
      "outputs": [],
      "source": [
        "from  bnd import *\n",
        "from  domains import DomainND\n",
        "from utils import constant\n",
        "from models import CollocationSolverND\n",
        "from tensorflow import sin, cos\n"
      ]
    },
    {
      "cell_type": "markdown",
      "metadata": {
        "id": "rSGwogNe69h5"
      },
      "source": [
        "Domains"
      ]
    },
    {
      "cell_type": "code",
      "execution_count": 271,
      "metadata": {
        "id": "FBRV0Kwt7Czk"
      },
      "outputs": [],
      "source": [
        "Domain =DomainND([\"y\", \"x\"])\n",
        "\n",
        "Domain.add(\"y\", [0.0, 1.0], 150)\n",
        "Domain.add(\"x\", [0.0, 1.0], 150)\n"
      ]
    },
    {
      "cell_type": "markdown",
      "metadata": {
        "id": "KhqmNkFA7P0s"
      },
      "source": [
        "Generate **Collocations** points"
      ]
    },
    {
      "cell_type": "code",
      "execution_count": 272,
      "metadata": {
        "id": "-IDiSHVx7Wzs"
      },
      "outputs": [],
      "source": [
        "N_f = 22500\n",
        "Domain.generate_collocation_points(N_f)"
      ]
    },
    {
      "cell_type": "markdown",
      "metadata": {
        "id": "AHva0axfrXvQ"
      },
      "source": [
        "*exact* solution function"
      ]
    },
    {
      "cell_type": "code",
      "execution_count": 273,
      "metadata": {
        "id": "Ir9jeo5mrcKG"
      },
      "outputs": [],
      "source": [
        "\n",
        "def f_real(x,y):\n",
        "      return np.cos( 2*math.pi*x) * np.sin((math.pi * y))"
      ]
    },
    {
      "cell_type": "markdown",
      "metadata": {
        "id": "Lzw1ukJQppoR"
      },
      "source": [
        "function input corresponding to horizontal or vertical displacement"
      ]
    },
    {
      "cell_type": "code",
      "execution_count": 274,
      "metadata": {
        "id": "dkZLJ2YHttxa"
      },
      "outputs": [],
      "source": [
        "def dispy(x,y):\n",
        "    Q=4.0\n",
        "    c1=4.0\n",
        "    pi=math.pi\n",
        "    return (sin(pi*x) * Q * y**c1/c1)\n",
        "\n",
        "def dispx(x,y):\n",
        "    pi=math.pi\n",
        "    return cos(2*pi*x) * sin(pi*y)\n"
      ]
    },
    {
      "cell_type": "markdown",
      "source": [
        "Bodyfunction of the body forces of the aforementioned functions"
      ],
      "metadata": {
        "id": "_AXp2lqNgEmn"
      }
    },
    {
      "cell_type": "code",
      "execution_count": 275,
      "metadata": {
        "id": "JRfJQfcHx1L0"
      },
      "outputs": [],
      "source": [
        "def bodyfx(x,y):\n",
        "    lmbd = 1.0\n",
        "    Q=4.0\n",
        "    pi=math.pi\n",
        "    mu=0.5\n",
        "    frc = - lmbd*(4*pi**2*cos(2*pi*x)*sin(pi*y) - Q*y**3*pi*cos(pi*x)) \\\n",
        "          - mu*(pi**2*cos(2*pi*x)*sin(pi*y) - Q*y**3*pi*cos(pi*x)) \\\n",
        "          - 8*mu*pi**2*cos(2*pi*x)*sin(pi*y)\n",
        "    return frc\n",
        "def bodyfy(x, y):\n",
        "    pi=math.pi\n",
        "    lmbd = 1\n",
        "    mu=0.5\n",
        "    Q=4\n",
        "    frc = lmbd*(3*Q*y**2*sin(pi*x) - 2*pi**2*cos(pi*y)*sin(2*pi*x)) \\\n",
        "          - mu*(2*pi**2*cos(pi*y)*np.sin(2*pi*x) + (Q*y**4*pi**2*sin(pi*x))/4) \\\n",
        "          + 6*Q*mu*y**2*sin(pi*x)\n",
        "    return frc"
      ]
    },
    {
      "cell_type": "markdown",
      "source": [
        "In case our network predict stress and strain of the beam"
      ],
      "metadata": {
        "id": "-Q0GcGPqgZyp"
      }
    },
    {
      "cell_type": "code",
      "execution_count": 276,
      "metadata": {
        "id": "_M-TKESQZFkB"
      },
      "outputs": [],
      "source": [
        "def strainxx(x,y):\n",
        "    pi=math.pi\n",
        "   \n",
        "    Q=constant(4.0)\n",
        "    return -2*pi*np.sin(2*pi*x)*np.sin(pi*y)\n",
        "\n",
        "def strainyy(x,y):\n",
        "    pi=math.pi\n",
        "    Q=4.0\n",
        "    return np.sin(pi*x)*Q*y**3\n",
        "def strainxy(x,y):\n",
        "    pi=math.pi\n",
        "    Q=4.0\n",
        "    return 0.5*(pi*np.cos(2*pi*x)*np.cos(pi*y) + pi*np.cos(pi*x)*Q*y**4/4)"
      ]
    },
    {
      "cell_type": "code",
      "execution_count": 277,
      "metadata": {
        "id": "ovsj6YmaZPZT"
      },
      "outputs": [],
      "source": [
        "def stressxy(x,y):\n",
        "    mu=constant(0.5)\n",
        "    return 2.0*mu*strainxy(x,y)\n",
        "\n",
        "def stressxx(x,y):\n",
        "    lmbd = 1.0\n",
        "    mu=0.5\n",
        "    return (lmbd+0.5*mu)*strainxx(x,y) + lmbd*strainyy(x,y)\n",
        "\n",
        "def stressyy(x,y):\n",
        "    lmbd = 1.0\n",
        "    mu=0.5\n",
        "    return (lmbd+2*mu)*strainyy(x,y) + lmbd*strainxx(x,y)\n",
        "\n",
        "def stressxy(x,y):\n",
        "    mu=constant(0.5)\n",
        "    return 2.0*mu*strainxy(x,y)\n"
      ]
    },
    {
      "cell_type": "code",
      "source": [],
      "metadata": {
        "id": "a0BkJp5Lw0FA"
      },
      "execution_count": 277,
      "outputs": []
    },
    {
      "cell_type": "markdown",
      "metadata": {
        "id": "anRwQcsa9wWx"
      },
      "source": [
        "**Dirichlet and neumann boundary**"
      ]
    },
    {
      "cell_type": "code",
      "execution_count": 278,
      "metadata": {
        "id": "feqxb0bc9fGG"
      },
      "outputs": [],
      "source": [
        "bnd_x_0=dirichletBC(Domain, val=0.0, var=\"y\", target=\"lower\")\n",
        "\n",
        "bnd_x_1=dirichletBC(Domain, val=0.0, var=\"y\", target=\"upper\")\n",
        "\n",
        "\n",
        "bnd_x_l=FunctionDirichletBC(Domain,fun=dispx, var=[\"y\"], target=\"lower\", func_inputs=['x','y'], n_values=150)\n",
        "bnd_x_u=FunctionDirichletBC(Domain,fun=dispx, var=[\"y\"], target=\"upper\",func_inputs=['x','y'], n_values=150)\n",
        "\n",
        "bnd_xx_u=FunctionDirichletBC(Domain,fun=stressxx, var=[\"y\"], target=\"upper\", func_inputs=['x','y'], n_values=50)\n",
        "bnd_xx_l=FunctionDirichletBC(Domain,fun=stressxx, var=[\"y\"], target=\"lower\", func_inputs=['x','y'], n_values=50)\n",
        "\n",
        "# bnd_xy_x_l=FunctionDirichletBC(Domain,fun=stressxy, var=[\"x\"], target=\"lower\", func_inputs=['x','y'], n_values=50)\n",
        "# bnd_xy_x_u=FunctionDirichletBC(Domain,fun=stressxy, var=[\"x\"], target=\"upper\", func_inputs=['x','y'], n_values=50)\n",
        "\n",
        "# bnd_xy_y_l=FunctionDirichletBC(Domain,fun=stressxy, var=[\"y\"], target=\"lower\", func_inputs=['x','y'], n_values=50)\n",
        "# bnd_xy_y_u=FunctionDirichletBC(Domain,fun=stressxy, var=[\"y\"], target=\"upper\", func_inputs=['x','y'], n_values=50)\n",
        "\n",
        "bnd_bd_x_l=FunctionDirichletBC(Domain,fun=bodyfx, var=[\"y\"], target=\"lower\", func_inputs=['x','y'], n_values=150)\n",
        "bnd_bd_x_u=FunctionDirichletBC(Domain,fun=bodyfx, var=[\"y\"], target=\"upper\", func_inputs=['x','y'], n_values=150)\n"
      ]
    },
    {
      "cell_type": "markdown",
      "metadata": {
        "id": "O9EUP0nh9s8x"
      },
      "source": [
        "*Boundary conditions*"
      ]
    },
    {
      "cell_type": "code",
      "execution_count": 279,
      "metadata": {
        "id": "tIgIBKHG-2lp"
      },
      "outputs": [],
      "source": [
        "BCs = [bnd_x_0,bnd_x_1,bnd_x_l,bnd_xx_l,bnd_xx_u,bnd_x_u,bnd_bd_x_l,bnd_bd_x_u]"
      ]
    },
    {
      "cell_type": "markdown",
      "metadata": {
        "id": "C9rnEPhm_BLa"
      },
      "source": [
        "**Model**"
      ]
    },
    {
      "cell_type": "code",
      "execution_count": 280,
      "metadata": {
        "id": "Os9CeDN2_M16"
      },
      "outputs": [],
      "source": [
        "def f_model(u_model,y, x):\n",
        "    u = u_model(tf.concat([y, x], 1))\n",
        "    u_x = tf.gradients(u, y)[0]\n",
        "    u_xx = tf.gradients(u_x, y)[0]\n",
        "    u_xxx=tf.gradients(u_x, y)[0]\n",
        "    u_x4=tf.gradients(u_xxx,y)[0]\n",
        "    a1 = constant(2.0)\n",
        "    pi = constant(math.pi)\n",
        "\n",
        "    # we use this specific forcing term because we have an exact analytical solution for this case\n",
        "    # to compare the results of the PINN solution\n",
        "    # note that we must use tensorflow math primitives such as sin, cos, etc!\n",
        "    forcing = -cos( a1*math.pi*x) * sin((math.pi * y))\n",
        "    f_u=u_x4-forcing\n",
        "    return f_u"
      ]
    },
    {
      "cell_type": "markdown",
      "metadata": {
        "id": "0rEcLsXt_RFW"
      },
      "source": [
        "Structure of w (layers)"
      ]
    },
    {
      "cell_type": "code",
      "execution_count": 281,
      "metadata": {
        "id": "kvdGMUs8_jJK"
      },
      "outputs": [],
      "source": [
        "layer_sizes = [2,100,100,100,1]"
      ]
    },
    {
      "cell_type": "markdown",
      "metadata": {
        "id": "ocht_uYf_nE3"
      },
      "source": [
        "*collocation solver*"
      ]
    },
    {
      "cell_type": "code",
      "execution_count": 282,
      "metadata": {
        "id": "acVT8Xxp_q-V"
      },
      "outputs": [],
      "source": [
        "model = CollocationSolverND()\n",
        "\n"
      ]
    },
    {
      "cell_type": "code",
      "execution_count": 283,
      "metadata": {
        "id": "OMT-dCi3Li5x",
        "colab": {
          "base_uri": "https://localhost:8080/"
        },
        "outputId": "3746bcf5-4729-44e9-f84c-bfbed0befd2b"
      },
      "outputs": [
        {
          "output_type": "stream",
          "name": "stderr",
          "text": [
            "/usr/local/lib/python3.7/dist-packages/keras/optimizer_v2/adam.py:105: UserWarning: The `lr` argument is deprecated, use `learning_rate` instead.\n",
            "  super(Adam, self).__init__(name, **kwargs)\n"
          ]
        }
      ],
      "source": [
        "model.compile(layer_sizes, f_model, Domain, BCs)"
      ]
    },
    {
      "cell_type": "markdown",
      "metadata": {
        "id": "PFcXfcrV_vJD"
      },
      "source": [
        "Reproduce results from ***Raissi*** and the ***SA-PINNs*** paper, train for 10k newton and 10k adam"
      ]
    },
    {
      "cell_type": "code",
      "execution_count": 284,
      "metadata": {
        "id": "XWSCy0whACOp",
        "colab": {
          "base_uri": "https://localhost:8080/",
          "height": 673,
          "referenced_widgets": [
            "2462246488eb4300b6cd733da8893d7e",
            "5fa850f7c79443429aa875af8d53bba1",
            "48825114c129478eb2e86582de13b349",
            "25d4e9f453cb493596b6436d008fd96b",
            "4fd6a228483b48be9c3c1ec54a78505d",
            "76e6300c353e44fe88422fb3e920b38a",
            "469ecf670e6b478db9d4954260c9ceca",
            "906d2549ab334398baa367f628c79a8f",
            "9a93d2f837ad40259e3ffca307f59288",
            "0c92ef029c974945be65d43f21c0d2f1",
            "8d0d65c654914b52a7ab01c0835bfc86",
            "2cbec558400041d981899ef011c018b6",
            "a671dc421fd34c16ab3c6e6bc4c05574",
            "d569cfcb37c24fc0b3a32a81b4b3f476",
            "27acb9ec3e9c4e7b9b8b679b4eb798c6",
            "aab483b5cc0c4192b42d3c37976aed1b",
            "97531704e3be4c4a8064a8ed372cfb1a",
            "839dc021e1814368b2bdf7a2a28ac892",
            "094cbc1bf9e64ca5a45c2005cab45988",
            "bdab4381fe604c2a9c3f1ae7fdfe82d0",
            "d4230b95b91544c894de2af9acbd1033",
            "ba3d44f8ed2244f98bc59c5167e7e953"
          ]
        },
        "outputId": "7e32e390-948c-4e8e-d2e5-af6ba04a5c2e"
      },
      "outputs": [
        {
          "output_type": "stream",
          "name": "stdout",
          "text": [
            "    ____  _           \n",
            "   / __ \\(_)___  ____ \n",
            "  / /_/ / / __ \\/ __ \\\n",
            " / ____/ / / / / / / /\n",
            "/_/   /_/_/ /_/_/ /_/ \n",
            "                      \n",
            "\n",
            "Neural Network Model Summary\n",
            "\n",
            "Model: \"sequential_8\"\n",
            "_________________________________________________________________\n",
            " Layer (type)                Output Shape              Param #   \n",
            "=================================================================\n",
            " dense_32 (Dense)            (None, 100)               300       \n",
            "                                                                 \n",
            " dense_33 (Dense)            (None, 100)               10100     \n",
            "                                                                 \n",
            " dense_34 (Dense)            (None, 100)               10100     \n",
            "                                                                 \n",
            " dense_35 (Dense)            (None, 1)                 101       \n",
            "                                                                 \n",
            "=================================================================\n",
            "Total params: 20,601\n",
            "Trainable params: 20,601\n",
            "Non-trainable params: 0\n",
            "_________________________________________________________________\n",
            "None\n",
            "Starting Adam training\n"
          ]
        },
        {
          "output_type": "display_data",
          "data": {
            "text/plain": [
              "  0%|          | 0/10000 [00:00<?, ?it/s]"
            ],
            "application/vnd.jupyter.widget-view+json": {
              "version_major": 2,
              "version_minor": 0,
              "model_id": "2462246488eb4300b6cd733da8893d7e"
            }
          },
          "metadata": {}
        },
        {
          "output_type": "stream",
          "name": "stdout",
          "text": [
            "Starting L-BFGS training\n",
            "Executing eager-mode L-BFGS\n"
          ]
        },
        {
          "output_type": "display_data",
          "data": {
            "text/plain": [
              "  0%|          | 0/10000 [00:00<?, ?it/s]"
            ],
            "application/vnd.jupyter.widget-view+json": {
              "version_major": 2,
              "version_minor": 0,
              "model_id": "2cbec558400041d981899ef011c018b6"
            }
          },
          "metadata": {}
        }
      ],
      "source": [
        "model.fit(tf_iter=10000, newton_iter=10000)"
      ]
    },
    {
      "cell_type": "code",
      "execution_count": 285,
      "metadata": {
        "id": "UbKe_ubqIQJ-",
        "colab": {
          "base_uri": "https://localhost:8080/"
        },
        "outputId": "05441dfb-4abb-4e9b-d827-b5489a164a59"
      },
      "outputs": [
        {
          "output_type": "stream",
          "name": "stderr",
          "text": [
            "WARNING:tensorflow:Compiled the loaded model, but the compiled metrics have yet to be built. `model.compile_metrics` will be empty until you train or evaluate the model.\n"
          ]
        }
      ],
      "source": [
        "model.save(\"'trained-model.h5\")"
      ]
    },
    {
      "cell_type": "code",
      "execution_count": 286,
      "metadata": {
        "id": "sKPSmB5I83b3"
      },
      "outputs": [],
      "source": [
        "nx, nt = (150, 150)"
      ]
    },
    {
      "cell_type": "markdown",
      "metadata": {
        "id": "3Au1k8obCZFS"
      },
      "source": [
        "setup conditions"
      ]
    },
    {
      "cell_type": "code",
      "execution_count": 287,
      "metadata": {
        "id": "7EKsqbmRCgLE"
      },
      "outputs": [],
      "source": [
        "x_ = np.linspace(0, 1, nx)\n",
        "t_ = np.linspace(0, 1, nt)\n",
        "\n",
        "xv, yv = np.meshgrid(x_,t_)\n",
        "\n",
        "\n",
        "\n",
        "x = np.reshape(x_, (-1, 1))\n",
        "t = np.reshape(t_, (-1, 1))"
      ]
    },
    {
      "cell_type": "markdown",
      "metadata": {
        "id": "qs0mNhrQCoF9"
      },
      "source": [
        "Exacte solution"
      ]
    },
    {
      "cell_type": "code",
      "execution_count": 288,
      "metadata": {
        "id": "q1Wg3mMVCqK1"
      },
      "outputs": [],
      "source": [
        "z=f_real(xv,yv)\n",
        "\n",
        "Exact_u=z\n"
      ]
    },
    {
      "cell_type": "markdown",
      "metadata": {
        "id": "9r9V00XDCwdy"
      },
      "source": [
        "Flatten for use"
      ]
    },
    {
      "cell_type": "code",
      "execution_count": 289,
      "metadata": {
        "id": "xtQlTgIfCxzt"
      },
      "outputs": [],
      "source": [
        "u_star = Exact_u.flatten()[:, None]"
      ]
    },
    {
      "cell_type": "markdown",
      "metadata": {
        "id": "V5Q62b17qO55"
      },
      "source": [
        "create a mesh"
      ]
    },
    {
      "cell_type": "code",
      "execution_count": 290,
      "metadata": {
        "id": "xcBEjAkyDEPB"
      },
      "outputs": [],
      "source": [
        "y = Domain.domaindict[0]['ylinspace']\n",
        "x = Domain.domaindict[1][\"xlinspace\"]\n",
        "\n",
        "X, T = np.meshgrid(y, x)"
      ]
    },
    {
      "cell_type": "code",
      "execution_count": 291,
      "metadata": {
        "id": "1u1W24JnDXS6"
      },
      "outputs": [],
      "source": [
        "X_star = np.hstack((X.flatten()[:, None], T.flatten()[:, None]))"
      ]
    },
    {
      "cell_type": "markdown",
      "metadata": {
        "id": "YZPzxwUZDKDW"
      },
      "source": [
        "predict"
      ]
    },
    {
      "cell_type": "code",
      "execution_count": 292,
      "metadata": {
        "id": "yK0HNuJZDMY3"
      },
      "outputs": [],
      "source": [
        "u_pred, f_u_pred = model.predict(X_star)"
      ]
    },
    {
      "cell_type": "markdown",
      "metadata": {
        "id": "5AzsHt4JDnU-"
      },
      "source": [
        "Error margins"
      ]
    },
    {
      "cell_type": "code",
      "execution_count": 293,
      "metadata": {
        "id": "lRrVSRg5Dq_9",
        "colab": {
          "base_uri": "https://localhost:8080/"
        },
        "outputId": "d0f81e9c-af3e-469f-c121-65eb823bd8fd"
      },
      "outputs": [
        {
          "output_type": "stream",
          "name": "stdout",
          "text": [
            "Error u: 1.001328e+00\n"
          ]
        }
      ],
      "source": [
        "error_u = helpers.find_L2_error(u_pred, u_star)\n",
        "print('Error u: %e' % (error_u))"
      ]
    },
    {
      "cell_type": "markdown",
      "metadata": {
        "id": "yumORV4qEe33"
      },
      "source": [
        "Plotting prediction, exact solution and residual"
      ]
    },
    {
      "cell_type": "code",
      "execution_count": 294,
      "metadata": {
        "id": "6fIUsxc_Eg50",
        "colab": {
          "base_uri": "https://localhost:8080/",
          "height": 378
        },
        "outputId": "0cb059c4-ff81-4221-9461-0e85cc246b22"
      },
      "outputs": [
        {
          "output_type": "stream",
          "name": "stderr",
          "text": [
            "WARNING:matplotlib.legend:No handles with labels found to put in legend.\n"
          ]
        },
        {
          "output_type": "stream",
          "name": "stdout",
          "text": [
            "Exact_u (150, 150) domain (150,) (150, 150)\n"
          ]
        },
        {
          "output_type": "display_data",
          "data": {
            "text/plain": [
              "<Figure size 505.106x312.173 with 5 Axes>"
            ],
            "image/png": "[encoded data removed]"
          },
          "metadata": {
            "needs_background": "light"
          }
        }
      ],
      "source": [
        "U_pred = plotting.get_griddata(X_star, u_pred.flatten(), (X, T))\n",
        "FU_pred = plotting.get_griddata(X_star, f_u_pred.flatten(), (X, T))\n",
        "\n",
        "lb = np.array([0.0, 0.0])\n",
        "ub = np.array([1.0, 1.0])\n",
        "plotting.plot_solution_Beam(model, [x, y], ub=ub, lb=lb, Exact_u=Exact_u)\n"
      ]
    },
    {
      "cell_type": "code",
      "execution_count": 295,
      "metadata": {
        "id": "E5klxACbI0ca",
        "colab": {
          "base_uri": "https://localhost:8080/",
          "height": 173
        },
        "outputId": "f916b536-ff9d-4f14-c024-9f14c0a12ec0"
      },
      "outputs": [
        {
          "output_type": "display_data",
          "data": {
            "text/plain": [
              "<Figure size 504x144 with 2 Axes>"
            ],
            "image/png": "[encoded data removed]"
          },
          "metadata": {
            "needs_background": "light"
          }
        }
      ],
      "source": [
        "plotting.plot_beam(y,x,z,ub, lb)"
      ]
    },
    {
      "cell_type": "code",
      "execution_count": 296,
      "metadata": {
        "id": "c5sO02vfrCTF",
        "colab": {
          "base_uri": "https://localhost:8080/",
          "height": 175
        },
        "outputId": "6d382f2f-9a86-4dd2-9abb-b0da273f117d"
      },
      "outputs": [
        {
          "output_type": "display_data",
          "data": {
            "text/plain": [
              "<Figure size 576x144 with 2 Axes>"
            ],
            "image/png": "[encoded data removed]"
          },
          "metadata": {
            "needs_background": "light"
          }
        }
      ],
      "source": [
        "plotting.plot_residuals(FU_pred,lb,ub)"
      ]
    }
  ],
  "metadata": {
    "colab": {
      "collapsed_sections": [],
      "provenance": []
    },
    "gpuClass": "standard",
    "kernelspec": {
      "display_name": "Python 3",
      "name": "python3"
    },
    "language_info": {
      "name": "python"
    },
    "widgets": {
      "application/vnd.jupyter.widget-state+json": {
        "2462246488eb4300b6cd733da8893d7e": {
          "model_module": "@jupyter-widgets/controls",
          "model_name": "HBoxModel",
          "model_module_version": "1.5.0",
          "state": {
            "_dom_classes": [],
            "_model_module": "@jupyter-widgets/controls",
            "_model_module_version": "1.5.0",
            "_model_name": "HBoxModel",
            "_view_count": null,
            "_view_module": "@jupyter-widgets/controls",
            "_view_module_version": "1.5.0",
            "_view_name": "HBoxView",
            "box_style": "",
            "children": [
              "IPY_MODEL_5fa850f7c79443429aa875af8d53bba1",
              "IPY_MODEL_48825114c129478eb2e86582de13b349",
              "IPY_MODEL_25d4e9f453cb493596b6436d008fd96b"
            ],
            "layout": "IPY_MODEL_4fd6a228483b48be9c3c1ec54a78505d"
          }
        },
        "5fa850f7c79443429aa875af8d53bba1": {
          "model_module": "@jupyter-widgets/controls",
          "model_name": "HTMLModel",
          "model_module_version": "1.5.0",
          "state": {
            "_dom_classes": [],
            "_model_module": "@jupyter-widgets/controls",
            "_model_module_version": "1.5.0",
            "_model_name": "HTMLModel",
            "_view_count": null,
            "_view_module": "@jupyter-widgets/controls",
            "_view_module_version": "1.5.0",
            "_view_name": "HTMLView",
            "description": "",
            "description_tooltip": null,
            "layout": "IPY_MODEL_76e6300c353e44fe88422fb3e920b38a",
            "placeholder": "​",
            "style": "IPY_MODEL_469ecf670e6b478db9d4954260c9ceca",
            "value": "Adam epoch 10000: 100%"
          }
        },
        "48825114c129478eb2e86582de13b349": {
          "model_module": "@jupyter-widgets/controls",
          "model_name": "FloatProgressModel",
          "model_module_version": "1.5.0",
          "state": {
            "_dom_classes": [],
            "_model_module": "@jupyter-widgets/controls",
            "_model_module_version": "1.5.0",
            "_model_name": "FloatProgressModel",
            "_view_count": null,
            "_view_module": "@jupyter-widgets/controls",
            "_view_module_version": "1.5.0",
            "_view_name": "ProgressView",
            "bar_style": "success",
            "description": "",
            "description_tooltip": null,
            "layout": "IPY_MODEL_906d2549ab334398baa367f628c79a8f",
            "max": 10000,
            "min": 0,
            "orientation": "horizontal",
            "style": "IPY_MODEL_9a93d2f837ad40259e3ffca307f59288",
            "value": 10000
          }
        },
        "25d4e9f453cb493596b6436d008fd96b": {
          "model_module": "@jupyter-widgets/controls",
          "model_name": "HTMLModel",
          "model_module_version": "1.5.0",
          "state": {
            "_dom_classes": [],
            "_model_module": "@jupyter-widgets/controls",
            "_model_module_version": "1.5.0",
            "_model_name": "HTMLModel",
            "_view_count": null,
            "_view_module": "@jupyter-widgets/controls",
            "_view_module_version": "1.5.0",
            "_view_name": "HTMLView",
            "description": "",
            "description_tooltip": null,
            "layout": "IPY_MODEL_0c92ef029c974945be65d43f21c0d2f1",
            "placeholder": "​",
            "style": "IPY_MODEL_8d0d65c654914b52a7ab01c0835bfc86",
            "value": " 10000/10000 [05:22&lt;00:00, 33.51it/s, loss=8.27e-6]"
          }
        },
        "4fd6a228483b48be9c3c1ec54a78505d": {
          "model_module": "@jupyter-widgets/base",
          "model_name": "LayoutModel",
          "model_module_version": "1.2.0",
          "state": {
            "_model_module": "@jupyter-widgets/base",
            "_model_module_version": "1.2.0",
            "_model_name": "LayoutModel",
            "_view_count": null,
            "_view_module": "@jupyter-widgets/base",
            "_view_module_version": "1.2.0",
            "_view_name": "LayoutView",
            "align_content": null,
            "align_items": null,
            "align_self": null,
            "border": null,
            "bottom": null,
            "display": null,
            "flex": null,
            "flex_flow": null,
            "grid_area": null,
            "grid_auto_columns": null,
            "grid_auto_flow": null,
            "grid_auto_rows": null,
            "grid_column": null,
            "grid_gap": null,
            "grid_row": null,
            "grid_template_areas": null,
            "grid_template_columns": null,
            "grid_template_rows": null,
            "height": null,
            "justify_content": null,
            "justify_items": null,
            "left": null,
            "margin": null,
            "max_height": null,
            "max_width": null,
            "min_height": null,
            "min_width": null,
            "object_fit": null,
            "object_position": null,
            "order": null,
            "overflow": null,
            "overflow_x": null,
            "overflow_y": null,
            "padding": null,
            "right": null,
            "top": null,
            "visibility": null,
            "width": null
          }
        },
        "76e6300c353e44fe88422fb3e920b38a": {
          "model_module": "@jupyter-widgets/base",
          "model_name": "LayoutModel",
          "model_module_version": "1.2.0",
          "state": {
            "_model_module": "@jupyter-widgets/base",
            "_model_module_version": "1.2.0",
            "_model_name": "LayoutModel",
            "_view_count": null,
            "_view_module": "@jupyter-widgets/base",
            "_view_module_version": "1.2.0",
            "_view_name": "LayoutView",
            "align_content": null,
            "align_items": null,
            "align_self": null,
            "border": null,
            "bottom": null,
            "display": null,
            "flex": null,
            "flex_flow": null,
            "grid_area": null,
            "grid_auto_columns": null,
            "grid_auto_flow": null,
            "grid_auto_rows": null,
            "grid_column": null,
            "grid_gap": null,
            "grid_row": null,
            "grid_template_areas": null,
            "grid_template_columns": null,
            "grid_template_rows": null,
            "height": null,
            "justify_content": null,
            "justify_items": null,
            "left": null,
            "margin": null,
            "max_height": null,
            "max_width": null,
            "min_height": null,
            "min_width": null,
            "object_fit": null,
            "object_position": null,
            "order": null,
            "overflow": null,
            "overflow_x": null,
            "overflow_y": null,
            "padding": null,
            "right": null,
            "top": null,
            "visibility": null,
            "width": null
          }
        },
        "469ecf670e6b478db9d4954260c9ceca": {
          "model_module": "@jupyter-widgets/controls",
          "model_name": "DescriptionStyleModel",
          "model_module_version": "1.5.0",
          "state": {
            "_model_module": "@jupyter-widgets/controls",
            "_model_module_version": "1.5.0",
            "_model_name": "DescriptionStyleModel",
            "_view_count": null,
            "_view_module": "@jupyter-widgets/base",
            "_view_module_version": "1.2.0",
            "_view_name": "StyleView",
            "description_width": ""
          }
        },
        "906d2549ab334398baa367f628c79a8f": {
          "model_module": "@jupyter-widgets/base",
          "model_name": "LayoutModel",
          "model_module_version": "1.2.0",
          "state": {
            "_model_module": "@jupyter-widgets/base",
            "_model_module_version": "1.2.0",
            "_model_name": "LayoutModel",
            "_view_count": null,
            "_view_module": "@jupyter-widgets/base",
            "_view_module_version": "1.2.0",
            "_view_name": "LayoutView",
            "align_content": null,
            "align_items": null,
            "align_self": null,
            "border": null,
            "bottom": null,
            "display": null,
            "flex": null,
            "flex_flow": null,
            "grid_area": null,
            "grid_auto_columns": null,
            "grid_auto_flow": null,
            "grid_auto_rows": null,
            "grid_column": null,
            "grid_gap": null,
            "grid_row": null,
            "grid_template_areas": null,
            "grid_template_columns": null,
            "grid_template_rows": null,
            "height": null,
            "justify_content": null,
            "justify_items": null,
            "left": null,
            "margin": null,
            "max_height": null,
            "max_width": null,
            "min_height": null,
            "min_width": null,
            "object_fit": null,
            "object_position": null,
            "order": null,
            "overflow": null,
            "overflow_x": null,
            "overflow_y": null,
            "padding": null,
            "right": null,
            "top": null,
            "visibility": null,
            "width": null
          }
        },
        "9a93d2f837ad40259e3ffca307f59288": {
          "model_module": "@jupyter-widgets/controls",
          "model_name": "ProgressStyleModel",
          "model_module_version": "1.5.0",
          "state": {
            "_model_module": "@jupyter-widgets/controls",
            "_model_module_version": "1.5.0",
            "_model_name": "ProgressStyleModel",
            "_view_count": null,
            "_view_module": "@jupyter-widgets/base",
            "_view_module_version": "1.2.0",
            "_view_name": "StyleView",
            "bar_color": null,
            "description_width": ""
          }
        },
        "0c92ef029c974945be65d43f21c0d2f1": {
          "model_module": "@jupyter-widgets/base",
          "model_name": "LayoutModel",
          "model_module_version": "1.2.0",
          "state": {
            "_model_module": "@jupyter-widgets/base",
            "_model_module_version": "1.2.0",
            "_model_name": "LayoutModel",
            "_view_count": null,
            "_view_module": "@jupyter-widgets/base",
            "_view_module_version": "1.2.0",
            "_view_name": "LayoutView",
            "align_content": null,
            "align_items": null,
            "align_self": null,
            "border": null,
            "bottom": null,
            "display": null,
            "flex": null,
            "flex_flow": null,
            "grid_area": null,
            "grid_auto_columns": null,
            "grid_auto_flow": null,
            "grid_auto_rows": null,
            "grid_column": null,
            "grid_gap": null,
            "grid_row": null,
            "grid_template_areas": null,
            "grid_template_columns": null,
            "grid_template_rows": null,
            "height": null,
            "justify_content": null,
            "justify_items": null,
            "left": null,
            "margin": null,
            "max_height": null,
            "max_width": null,
            "min_height": null,
            "min_width": null,
            "object_fit": null,
            "object_position": null,
            "order": null,
            "overflow": null,
            "overflow_x": null,
            "overflow_y": null,
            "padding": null,
            "right": null,
            "top": null,
            "visibility": null,
            "width": null
          }
        },
        "8d0d65c654914b52a7ab01c0835bfc86": {
          "model_module": "@jupyter-widgets/controls",
          "model_name": "DescriptionStyleModel",
          "model_module_version": "1.5.0",
          "state": {
            "_model_module": "@jupyter-widgets/controls",
            "_model_module_version": "1.5.0",
            "_model_name": "DescriptionStyleModel",
            "_view_count": null,
            "_view_module": "@jupyter-widgets/base",
            "_view_module_version": "1.2.0",
            "_view_name": "StyleView",
            "description_width": ""
          }
        },
        "2cbec558400041d981899ef011c018b6": {
          "model_module": "@jupyter-widgets/controls",
          "model_name": "HBoxModel",
          "model_module_version": "1.5.0",
          "state": {
            "_dom_classes": [],
            "_model_module": "@jupyter-widgets/controls",
            "_model_module_version": "1.5.0",
            "_model_name": "HBoxModel",
            "_view_count": null,
            "_view_module": "@jupyter-widgets/controls",
            "_view_module_version": "1.5.0",
            "_view_name": "HBoxView",
            "box_style": "",
            "children": [
              "IPY_MODEL_a671dc421fd34c16ab3c6e6bc4c05574",
              "IPY_MODEL_d569cfcb37c24fc0b3a32a81b4b3f476",
              "IPY_MODEL_27acb9ec3e9c4e7b9b8b679b4eb798c6"
            ],
            "layout": "IPY_MODEL_aab483b5cc0c4192b42d3c37976aed1b"
          }
        },
        "a671dc421fd34c16ab3c6e6bc4c05574": {
          "model_module": "@jupyter-widgets/controls",
          "model_name": "HTMLModel",
          "model_module_version": "1.5.0",
          "state": {
            "_dom_classes": [],
            "_model_module": "@jupyter-widgets/controls",
            "_model_module_version": "1.5.0",
            "_model_name": "HTMLModel",
            "_view_count": null,
            "_view_module": "@jupyter-widgets/controls",
            "_view_module_version": "1.5.0",
            "_view_name": "HTMLView",
            "description": "",
            "description_tooltip": null,
            "layout": "IPY_MODEL_97531704e3be4c4a8064a8ed372cfb1a",
            "placeholder": "​",
            "style": "IPY_MODEL_839dc021e1814368b2bdf7a2a28ac892",
            "value": "L-BFGS epoch 10000: 100%"
          }
        },
        "d569cfcb37c24fc0b3a32a81b4b3f476": {
          "model_module": "@jupyter-widgets/controls",
          "model_name": "FloatProgressModel",
          "model_module_version": "1.5.0",
          "state": {
            "_dom_classes": [],
            "_model_module": "@jupyter-widgets/controls",
            "_model_module_version": "1.5.0",
            "_model_name": "FloatProgressModel",
            "_view_count": null,
            "_view_module": "@jupyter-widgets/controls",
            "_view_module_version": "1.5.0",
            "_view_name": "ProgressView",
            "bar_style": "danger",
            "description": "",
            "description_tooltip": null,
            "layout": "IPY_MODEL_094cbc1bf9e64ca5a45c2005cab45988",
            "max": 10000,
            "min": 0,
            "orientation": "horizontal",
            "style": "IPY_MODEL_bdab4381fe604c2a9c3f1ae7fdfe82d0",
            "value": 9999
          }
        },
        "27acb9ec3e9c4e7b9b8b679b4eb798c6": {
          "model_module": "@jupyter-widgets/controls",
          "model_name": "HTMLModel",
          "model_module_version": "1.5.0",
          "state": {
            "_dom_classes": [],
            "_model_module": "@jupyter-widgets/controls",
            "_model_module_version": "1.5.0",
            "_model_name": "HTMLModel",
            "_view_count": null,
            "_view_module": "@jupyter-widgets/controls",
            "_view_module_version": "1.5.0",
            "_view_name": "HTMLView",
            "description": "",
            "description_tooltip": null,
            "layout": "IPY_MODEL_d4230b95b91544c894de2af9acbd1033",
            "placeholder": "​",
            "style": "IPY_MODEL_ba3d44f8ed2244f98bc59c5167e7e953",
            "value": " 9999/10000 [13:39&lt;00:00, 12.33it/s, loss=5.34e-6]"
          }
        },
        "aab483b5cc0c4192b42d3c37976aed1b": {
          "model_module": "@jupyter-widgets/base",
          "model_name": "LayoutModel",
          "model_module_version": "1.2.0",
          "state": {
            "_model_module": "@jupyter-widgets/base",
            "_model_module_version": "1.2.0",
            "_model_name": "LayoutModel",
            "_view_count": null,
            "_view_module": "@jupyter-widgets/base",
            "_view_module_version": "1.2.0",
            "_view_name": "LayoutView",
            "align_content": null,
            "align_items": null,
            "align_self": null,
            "border": null,
            "bottom": null,
            "display": null,
            "flex": null,
            "flex_flow": null,
            "grid_area": null,
            "grid_auto_columns": null,
            "grid_auto_flow": null,
            "grid_auto_rows": null,
            "grid_column": null,
            "grid_gap": null,
            "grid_row": null,
            "grid_template_areas": null,
            "grid_template_columns": null,
            "grid_template_rows": null,
            "height": null,
            "justify_content": null,
            "justify_items": null,
            "left": null,
            "margin": null,
            "max_height": null,
            "max_width": null,
            "min_height": null,
            "min_width": null,
            "object_fit": null,
            "object_position": null,
            "order": null,
            "overflow": null,
            "overflow_x": null,
            "overflow_y": null,
            "padding": null,
            "right": null,
            "top": null,
            "visibility": null,
            "width": null
          }
        },
        "97531704e3be4c4a8064a8ed372cfb1a": {
          "model_module": "@jupyter-widgets/base",
          "model_name": "LayoutModel",
          "model_module_version": "1.2.0",
          "state": {
            "_model_module": "@jupyter-widgets/base",
            "_model_module_version": "1.2.0",
            "_model_name": "LayoutModel",
            "_view_count": null,
            "_view_module": "@jupyter-widgets/base",
            "_view_module_version": "1.2.0",
            "_view_name": "LayoutView",
            "align_content": null,
            "align_items": null,
            "align_self": null,
            "border": null,
            "bottom": null,
            "display": null,
            "flex": null,
            "flex_flow": null,
            "grid_area": null,
            "grid_auto_columns": null,
            "grid_auto_flow": null,
            "grid_auto_rows": null,
            "grid_column": null,
            "grid_gap": null,
            "grid_row": null,
            "grid_template_areas": null,
            "grid_template_columns": null,
            "grid_template_rows": null,
            "height": null,
            "justify_content": null,
            "justify_items": null,
            "left": null,
            "margin": null,
            "max_height": null,
            "max_width": null,
            "min_height": null,
            "min_width": null,
            "object_fit": null,
            "object_position": null,
            "order": null,
            "overflow": null,
            "overflow_x": null,
            "overflow_y": null,
            "padding": null,
            "right": null,
            "top": null,
            "visibility": null,
            "width": null
          }
        },
        "839dc021e1814368b2bdf7a2a28ac892": {
          "model_module": "@jupyter-widgets/controls",
          "model_name": "DescriptionStyleModel",
          "model_module_version": "1.5.0",
          "state": {
            "_model_module": "@jupyter-widgets/controls",
            "_model_module_version": "1.5.0",
            "_model_name": "DescriptionStyleModel",
            "_view_count": null,
            "_view_module": "@jupyter-widgets/base",
            "_view_module_version": "1.2.0",
            "_view_name": "StyleView",
            "description_width": ""
          }
        },
        "094cbc1bf9e64ca5a45c2005cab45988": {
          "model_module": "@jupyter-widgets/base",
          "model_name": "LayoutModel",
          "model_module_version": "1.2.0",
          "state": {
            "_model_module": "@jupyter-widgets/base",
            "_model_module_version": "1.2.0",
            "_model_name": "LayoutModel",
            "_view_count": null,
            "_view_module": "@jupyter-widgets/base",
            "_view_module_version": "1.2.0",
            "_view_name": "LayoutView",
            "align_content": null,
            "align_items": null,
            "align_self": null,
            "border": null,
            "bottom": null,
            "display": null,
            "flex": null,
            "flex_flow": null,
            "grid_area": null,
            "grid_auto_columns": null,
            "grid_auto_flow": null,
            "grid_auto_rows": null,
            "grid_column": null,
            "grid_gap": null,
            "grid_row": null,
            "grid_template_areas": null,
            "grid_template_columns": null,
            "grid_template_rows": null,
            "height": null,
            "justify_content": null,
            "justify_items": null,
            "left": null,
            "margin": null,
            "max_height": null,
            "max_width": null,
            "min_height": null,
            "min_width": null,
            "object_fit": null,
            "object_position": null,
            "order": null,
            "overflow": null,
            "overflow_x": null,
            "overflow_y": null,
            "padding": null,
            "right": null,
            "top": null,
            "visibility": null,
            "width": null
          }
        },
        "bdab4381fe604c2a9c3f1ae7fdfe82d0": {
          "model_module": "@jupyter-widgets/controls",
          "model_name": "ProgressStyleModel",
          "model_module_version": "1.5.0",
          "state": {
            "_model_module": "@jupyter-widgets/controls",
            "_model_module_version": "1.5.0",
            "_model_name": "ProgressStyleModel",
            "_view_count": null,
            "_view_module": "@jupyter-widgets/base",
            "_view_module_version": "1.2.0",
            "_view_name": "StyleView",
            "bar_color": null,
            "description_width": ""
          }
        },
        "d4230b95b91544c894de2af9acbd1033": {
          "model_module": "@jupyter-widgets/base",
          "model_name": "LayoutModel",
          "model_module_version": "1.2.0",
          "state": {
            "_model_module": "@jupyter-widgets/base",
            "_model_module_version": "1.2.0",
            "_model_name": "LayoutModel",
            "_view_count": null,
            "_view_module": "@jupyter-widgets/base",
            "_view_module_version": "1.2.0",
            "_view_name": "LayoutView",
            "align_content": null,
            "align_items": null,
            "align_self": null,
            "border": null,
            "bottom": null,
            "display": null,
            "flex": null,
            "flex_flow": null,
            "grid_area": null,
            "grid_auto_columns": null,
            "grid_auto_flow": null,
            "grid_auto_rows": null,
            "grid_column": null,
            "grid_gap": null,
            "grid_row": null,
            "grid_template_areas": null,
            "grid_template_columns": null,
            "grid_template_rows": null,
            "height": null,
            "justify_content": null,
            "justify_items": null,
            "left": null,
            "margin": null,
            "max_height": null,
            "max_width": null,
            "min_height": null,
            "min_width": null,
            "object_fit": null,
            "object_position": null,
            "order": null,
            "overflow": null,
            "overflow_x": null,
            "overflow_y": null,
            "padding": null,
            "right": null,
            "top": null,
            "visibility": null,
            "width": null
          }
        },
        "ba3d44f8ed2244f98bc59c5167e7e953": {
          "model_module": "@jupyter-widgets/controls",
          "model_name": "DescriptionStyleModel",
          "model_module_version": "1.5.0",
          "state": {
            "_model_module": "@jupyter-widgets/controls",
            "_model_module_version": "1.5.0",
            "_model_name": "DescriptionStyleModel",
            "_view_count": null,
            "_view_module": "@jupyter-widgets/base",
            "_view_module_version": "1.2.0",
            "_view_name": "StyleView",
            "description_width": ""
          }
        }
      }
    },
    "accelerator": "GPU"
  },
  "nbformat": 4,
  "nbformat_minor": 0
}
