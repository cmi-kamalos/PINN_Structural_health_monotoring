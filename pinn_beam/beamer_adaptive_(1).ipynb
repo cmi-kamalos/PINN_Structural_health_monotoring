{
  "cells": [
    {
      "cell_type": "markdown",
      "source": [
        "**Simple supported beam adaptive method**"
      ],
      "metadata": {
        "id": "i5SkXKFTnAmc"
      }
    },
    {
      "cell_type": "markdown",
      "source": [
        "cloning from github essentials files"
      ],
      "metadata": {
        "id": "QlnAs7Iynf9w"
      }
    },
    {
      "cell_type": "code",
      "source": [
        " ! git  clone --recursive  https://github.com/cmi-kamalos/PINN_Structural_health_monotoring"
      ],
      "metadata": {
        "colab": {
          "base_uri": "https://localhost:8080/"
        },
        "id": "RH3YD36ZnvfP",
        "outputId": "56c29b0e-0dfa-42a3-c1d0-adc6f3710cac"
      },
      "execution_count": 1,
      "outputs": [
        {
          "output_type": "stream",
          "name": "stdout",
          "text": [
            "Cloning into 'PINN_Structural_health_monotoring'...\n",
            "remote: Enumerating objects: 138, done.\u001b[K\n",
            "remote: Counting objects: 100% (36/36), done.\u001b[K\n",
            "remote: Compressing objects: 100% (36/36), done.\u001b[K\n",
            "remote: Total 138 (delta 19), reused 0 (delta 0), pack-reused 102\u001b[K\n",
            "Receiving objects: 100% (138/138), 997.34 KiB | 13.66 MiB/s, done.\n",
            "Resolving deltas: 100% (49/49), done.\n"
          ]
        }
      ]
    },
    {
      "cell_type": "markdown",
      "source": [
        "switching to tensordiff folders (forked works from tensordiffeq)"
      ],
      "metadata": {
        "id": "_Xde7G8bn2By"
      }
    },
    {
      "cell_type": "code",
      "source": [
        "cd /content/PINN_Structural_health_monotoring/from_tensordiff"
      ],
      "metadata": {
        "colab": {
          "base_uri": "https://localhost:8080/"
        },
        "id": "V2dU__KFYXAY",
        "outputId": "afdcebb7-50c3-491d-85ab-4407d90fdb30"
      },
      "execution_count": 2,
      "outputs": [
        {
          "output_type": "stream",
          "name": "stdout",
          "text": [
            "/content/PINN_Structural_health_monotoring/from_tensordiff\n"
          ]
        }
      ]
    },
    {
      "cell_type": "code",
      "source": [
        "pip install pyDOE2"
      ],
      "metadata": {
        "id": "ZXJ1fSQ6O4pz",
        "colab": {
          "base_uri": "https://localhost:8080/"
        },
        "outputId": "f4b4b6b3-6d8d-42f5-b5c9-ea3e0b2d4890"
      },
      "execution_count": 3,
      "outputs": [
        {
          "output_type": "stream",
          "name": "stdout",
          "text": [
            "Looking in indexes: https://pypi.org/simple, https://us-python.pkg.dev/colab-wheels/public/simple/\n",
            "Collecting pyDOE2\n",
            "  Downloading pyDOE2-1.3.0.tar.gz (19 kB)\n",
            "Requirement already satisfied: numpy in /usr/local/lib/python3.7/dist-packages (from pyDOE2) (1.21.6)\n",
            "Requirement already satisfied: scipy in /usr/local/lib/python3.7/dist-packages (from pyDOE2) (1.7.3)\n",
            "Building wheels for collected packages: pyDOE2\n",
            "  Building wheel for pyDOE2 (setup.py) ... \u001b[?25l\u001b[?25hdone\n",
            "  Created wheel for pyDOE2: filename=pyDOE2-1.3.0-py3-none-any.whl size=25539 sha256=d50653d560bf16bdf77feb04a3956eb078d5c98dac63b0156c16db059361c848\n",
            "  Stored in directory: /root/.cache/pip/wheels/49/91/2d/d08e80806bf7756193541f6c03c0492af288fcd6158d3d0998\n",
            "Successfully built pyDOE2\n",
            "Installing collected packages: pyDOE2\n",
            "Successfully installed pyDOE2-1.3.0\n"
          ]
        }
      ]
    },
    {
      "cell_type": "code",
      "execution_count": 4,
      "metadata": {
        "id": "XxRbobOE7ZJn"
      },
      "outputs": [],
      "source": [
        "# from google.colab import drive\n",
        "# drive.mount('/content/drive')"
      ]
    },
    {
      "cell_type": "code",
      "execution_count": 5,
      "metadata": {
        "colab": {
          "base_uri": "https://localhost:8080/"
        },
        "id": "PWBR9fcmUy_Y",
        "outputId": "63b9d6d1-e69e-4afb-bca4-7246b44f9c04"
      },
      "outputs": [
        {
          "output_type": "stream",
          "name": "stdout",
          "text": [
            "Looking in indexes: https://pypi.org/simple, https://us-python.pkg.dev/colab-wheels/public/simple/\n",
            "Requirement already satisfied: tqdm in /usr/local/lib/python3.7/dist-packages (4.64.0)\n"
          ]
        }
      ],
      "source": [
        "pip install tqdm\n"
      ]
    },
    {
      "cell_type": "code",
      "execution_count": 6,
      "metadata": {
        "id": "RByeRGWT6a2m",
        "colab": {
          "base_uri": "https://localhost:8080/"
        },
        "outputId": "5a8f344b-cf13-4496-a651-514b15a5e9cf"
      },
      "outputs": [
        {
          "output_type": "stream",
          "name": "stdout",
          "text": [
            "Looking in indexes: https://pypi.org/simple, https://us-python.pkg.dev/colab-wheels/public/simple/\n",
            "Collecting pyfiglet\n",
            "  Downloading pyfiglet-0.8.post1-py2.py3-none-any.whl (865 kB)\n",
            "\u001b[K     |████████████████████████████████| 865 kB 8.1 MB/s \n",
            "\u001b[?25hInstalling collected packages: pyfiglet\n",
            "Successfully installed pyfiglet-0.8.post1\n"
          ]
        }
      ],
      "source": [
        "pip install pyfiglet"
      ]
    },
    {
      "cell_type": "code",
      "execution_count": 7,
      "metadata": {
        "id": "v52l1czzOVef"
      },
      "outputs": [],
      "source": [
        "import math\n",
        "import os\n",
        "import numpy as np\n",
        "import sys\n",
        "import inspect\n",
        "import tensorflow as tf\n",
        "import os\n"
      ]
    },
    {
      "cell_type": "code",
      "execution_count": 8,
      "metadata": {
        "id": "mq2-IrjfHgBe"
      },
      "outputs": [],
      "source": [
        "# !cp /content/drive/MyDrive/tensordiff/models.py  /content\n",
        "# !cp /content/drive/MyDrive/tensordiff/boundaries.py  /content\n",
        "# !cp /content/drive/MyDrive/tensordiff/domains.py  /content\n",
        "# !cp /content/drive/MyDrive/tensordiff/helpers.py  /content\n",
        "# !cp /content/drive/MyDrive/tensordiff/networks.py  /content\n",
        "# !cp /content/drive/MyDrive/tensordiff/optimizers.py  /content\n",
        "# !cp /content/drive/MyDrive/tensordiff/output.py  /content\n",
        "# !cp /content/drive/MyDrive/tensordiff/sampling.py  /content\n",
        "# !cp /content/drive/MyDrive/tensordiff/utils.py  /content\n",
        "# !cp /content/drive/MyDrive/tensordiff/fit.py  /content\n",
        "# !cp /content/drive/MyDrive/tensordiff/plotting.py  /content\n",
        "# !cp /content/drive/MyDrive/tensordiff/__init__.py  /content"
      ]
    },
    {
      "cell_type": "code",
      "execution_count": 8,
      "metadata": {
        "id": "YVr8Po3kCroj"
      },
      "outputs": [],
      "source": [
        ""
      ]
    },
    {
      "cell_type": "code",
      "execution_count": 9,
      "metadata": {
        "id": "Z9z0VYp9xJ-d"
      },
      "outputs": [],
      "source": [
        "import utils\n",
        "import domains\n",
        "import models \n",
        "import plotting\n",
        "import boundaries\n",
        "import helpers\n",
        "import networks\n",
        "import output\n",
        "import sampling\n",
        "import fit\n",
        "import __init__\n"
      ]
    },
    {
      "cell_type": "code",
      "execution_count": 9,
      "metadata": {
        "id": "qnjVtl6WUv65"
      },
      "outputs": [],
      "source": [
        "\n"
      ]
    },
    {
      "cell_type": "markdown",
      "metadata": {
        "id": "G7RU3m6MCGlg"
      },
      "source": [
        ""
      ]
    },
    {
      "cell_type": "markdown",
      "metadata": {
        "id": "pyv7R62Y6QuB"
      },
      "source": [
        "tensordiff *essentials* **package**"
      ]
    },
    {
      "cell_type": "code",
      "execution_count": 10,
      "metadata": {
        "id": "uo3Ups8-6brI"
      },
      "outputs": [],
      "source": [
        "from  boundaries import *\n",
        "from  domains import DomainND\n",
        "from utils import constant\n",
        "from models import CollocationSolverND\n",
        "from tensorflow import sin, cos\n"
      ]
    },
    {
      "cell_type": "markdown",
      "metadata": {
        "id": "rSGwogNe69h5"
      },
      "source": [
        "Domains"
      ]
    },
    {
      "cell_type": "code",
      "execution_count": 11,
      "metadata": {
        "id": "FBRV0Kwt7Czk"
      },
      "outputs": [],
      "source": [
        "Domain =DomainND([\"x\", \"t\"], time_var='t')\n",
        "\n",
        "Domain.add(\"x\", [0.0, 1.0], 150)\n",
        "Domain.add(\"t\", [0.0, 1.0], 150)"
      ]
    },
    {
      "cell_type": "markdown",
      "metadata": {
        "id": "KhqmNkFA7P0s"
      },
      "source": [
        "Generate **Collocations** points"
      ]
    },
    {
      "cell_type": "code",
      "execution_count": 12,
      "metadata": {
        "id": "-IDiSHVx7Wzs"
      },
      "outputs": [],
      "source": [
        "N_f = 22500\n",
        "Domain.generate_collocation_points(N_f)"
      ]
    },
    {
      "cell_type": "markdown",
      "metadata": {
        "id": "9EwelM_57kIg"
      },
      "source": [
        "Initial condition (***IC***) functions"
      ]
    },
    {
      "cell_type": "code",
      "execution_count": 13,
      "metadata": {
        "id": "acE_cObc7xJP"
      },
      "outputs": [],
      "source": [
        "def func_ic_1(x):\n",
        "    return sin(math.pi*x)\n",
        "\n",
        "\n",
        "def func_ic_2(x):\n",
        "    return cos(math.pi*x)"
      ]
    },
    {
      "cell_type": "markdown",
      "source": [
        "*exact* solution function"
      ],
      "metadata": {
        "id": "AHva0axfrXvQ"
      }
    },
    {
      "cell_type": "code",
      "source": [
        "\n",
        "def f_real(x,t):\n",
        "      return np.sin( math.pi*x) * np.cos((math.pi **2) * t)"
      ],
      "metadata": {
        "id": "Ir9jeo5mrcKG"
      },
      "execution_count": 14,
      "outputs": []
    },
    {
      "cell_type": "markdown",
      "source": [
        "function input for neumann boundary"
      ],
      "metadata": {
        "id": "Lzw1ukJQppoR"
      }
    },
    {
      "cell_type": "code",
      "execution_count": 15,
      "metadata": {
        "id": "dkZLJ2YHttxa"
      },
      "outputs": [],
      "source": [
        "def func_input(x):\n",
        "    return sin( constant(math.pi)*x)*cos((constant(math.pi) **2)*x)"
      ]
    },
    {
      "cell_type": "markdown",
      "source": [
        "functions for dirichletfunction boundary"
      ],
      "metadata": {
        "id": "VUvRlKg5r9Pt"
      }
    },
    {
      "cell_type": "code",
      "execution_count": 16,
      "metadata": {
        "id": "LI3ASErX_8fj"
      },
      "outputs": [],
      "source": [
        "def func_upper_x(x):\n",
        "    return sin(constant(math.pi) * x)\n",
        "def func_upper_y(t):\n",
        "    return cos(constant(math.pi**2)*t)"
      ]
    },
    {
      "cell_type": "markdown",
      "metadata": {
        "id": "aH_S80Aa8i_I"
      },
      "source": [
        "**Initial Conditions**"
      ]
    },
    {
      "cell_type": "code",
      "execution_count": 17,
      "metadata": {
        "id": "tXD2MK8A8oJ5"
      },
      "outputs": [],
      "source": [
        "init1 = IC(Domain, [func_ic_1], var=[['x']])\n",
        "init2 = IC(Domain, [func_ic_2], var=[['x']])\n"
      ]
    },
    {
      "cell_type": "markdown",
      "metadata": {
        "id": "JPZwl27d9Kmy"
      },
      "source": [
        "derivative **boundary** function"
      ]
    },
    {
      "cell_type": "code",
      "execution_count": 18,
      "metadata": {
        "id": "oSm2wcKK9e5w"
      },
      "outputs": [],
      "source": [
        "def func_boundary(u_model,x,t):\n",
        "    u = u_model(tf.concat([x, t], 1))\n",
        "    u_x = tf.gradients(u, x)[0]\n",
        "    u_xx = tf.gradients(u_x, x)[0]\n",
        "    return u,u_xx"
      ]
    },
    {
      "cell_type": "markdown",
      "metadata": {
        "id": "anRwQcsa9wWx"
      },
      "source": [
        "**Dirichlet and neumann boundary**"
      ]
    },
    {
      "cell_type": "code",
      "execution_count": 19,
      "metadata": {
        "id": "feqxb0bc9fGG"
      },
      "outputs": [],
      "source": [
        "bnd_x_0 = dirichletBC(Domain, val=0.0, var='x', target=\"lower\")\n",
        "bnd_x_l = dirichletBC(Domain, val=0.0, var='x', target=\"upper\")\n",
        "# bnd_xx_0 = FunctionDirichletBC(Domain, fun=[func_input], var='x', target=\"upper\", func_inputs=[\"x\"], n_values=30)\n",
        "# bnd_xx_l = FunctionDirichletBC(Domain, fun=[func_input], var='x', target=\"lower\", func_inputs=[\"t\"], n_values=30)\n",
        "\n",
        "bnd_xx_0=FunctionNeumannBC(Domain,[func_input],var=['x'],target='lower',deriv_model=[func_boundary],func_inputs=['x'],n_values=150)\n",
        "bnd_xx_l=FunctionNeumannBC(Domain,[func_input],var=['x'],target='upper',deriv_model=[func_boundary],func_inputs=['x',],n_values=150)\n",
        "\n"
      ]
    },
    {
      "cell_type": "markdown",
      "metadata": {
        "id": "O9EUP0nh9s8x"
      },
      "source": [
        "*Boundary conditions*"
      ]
    },
    {
      "cell_type": "code",
      "execution_count": 20,
      "metadata": {
        "id": "tIgIBKHG-2lp"
      },
      "outputs": [],
      "source": [
        "BCs = [init1,init2,bnd_x_0,bnd_x_l,bnd_xx_0,bnd_xx_l]"
      ]
    },
    {
      "cell_type": "markdown",
      "metadata": {
        "id": "C9rnEPhm_BLa"
      },
      "source": [
        "**Model**"
      ]
    },
    {
      "cell_type": "code",
      "execution_count": 21,
      "metadata": {
        "id": "Os9CeDN2_M16"
      },
      "outputs": [],
      "source": [
        "def f_model(u_model, x, t):\n",
        "    u = u_model(tf.concat([x, t], 1))\n",
        "    u_x = tf.gradients(u, x)[0]\n",
        "    u_xx = tf.gradients(u_x, x)[0]\n",
        "    u_xxx=tf.gradients(u_x, x)[0]\n",
        "    u_x4=tf.gradients(u_xxx,x)[0]\n",
        "    u_t = tf.gradients(u,t)[0]\n",
        "    u_tt=tf.gradients(u_t,t)[0]\n",
        "    a1 = constant(1.0)\n",
        "    a2 = constant(1.0)\n",
        "    pi = constant(math.pi)\n",
        "\n",
        "    # we use this specific forcing term because we have an exact analytical solution for this case\n",
        "    # to compare the results of the PINN solution\n",
        "    # note that we must use tensorflow math primitives such as sin, cos, etc!\n",
        "    forcing = -sin(pi * x) * cos((pi **2)* t)\n",
        "    f_u=u_x4+u_tt-forcing\n",
        "    return f_u"
      ]
    },
    {
      "cell_type": "markdown",
      "metadata": {
        "id": "HISEg0t0nm4j"
      },
      "source": [
        "loss functions with have adaptive weights"
      ]
    },
    {
      "cell_type": "code",
      "execution_count": 22,
      "metadata": {
        "id": "PlQ7bU5qk02k"
      },
      "outputs": [],
      "source": [
        "dict_adaptive = {\"residual\": [True,True,True],\n",
        "                 \"BCs\": [False, False,True,True,True,True]}"
      ]
    },
    {
      "cell_type": "markdown",
      "metadata": {
        "id": "w7FX6oyBnuir"
      },
      "source": [
        "dictionary with keys \"residual\" and \"BCs\""
      ]
    },
    {
      "cell_type": "code",
      "execution_count": 23,
      "metadata": {
        "id": "65b0u_Pbn07w"
      },
      "outputs": [],
      "source": [
        "init_weights = {\"residual\": [tf.random.uniform([N_f, 1]),tf.random.uniform([150, 1]),tf.random.uniform([150, 1])],\n",
        "                \"BCs\": [None,None,tf.random.uniform([150, 1]), tf.random.uniform([150, 1]), tf.random.uniform([150, 1]),tf.random.uniform([150, 1])]}"
      ]
    },
    {
      "cell_type": "markdown",
      "metadata": {
        "id": "2Nip0A8YsNiE"
      },
      "source": [
        "g a lambda function"
      ]
    },
    {
      "cell_type": "code",
      "execution_count": 24,
      "metadata": {
        "id": "CfNJOoLGsVYR"
      },
      "outputs": [],
      "source": [
        "def g(lam):\n",
        "    return lam**2"
      ]
    },
    {
      "cell_type": "markdown",
      "metadata": {
        "id": "0rEcLsXt_RFW"
      },
      "source": [
        "Structure of w (layers)"
      ]
    },
    {
      "cell_type": "code",
      "execution_count": 25,
      "metadata": {
        "id": "kvdGMUs8_jJK"
      },
      "outputs": [],
      "source": [
        "layer_sizes = [2,100,100,100,1]"
      ]
    },
    {
      "cell_type": "markdown",
      "metadata": {
        "id": "ocht_uYf_nE3"
      },
      "source": [
        "*collocation solver*"
      ]
    },
    {
      "cell_type": "code",
      "execution_count": 26,
      "metadata": {
        "id": "acVT8Xxp_q-V"
      },
      "outputs": [],
      "source": [
        "model = CollocationSolverND()\n",
        "\n"
      ]
    },
    {
      "cell_type": "code",
      "execution_count": 27,
      "metadata": {
        "colab": {
          "base_uri": "https://localhost:8080/"
        },
        "id": "OMT-dCi3Li5x",
        "outputId": "0658a5ed-eb3a-4347-a810-c2ca7b375bfd"
      },
      "outputs": [
        {
          "output_type": "stream",
          "name": "stderr",
          "text": [
            "/usr/local/lib/python3.7/dist-packages/keras/optimizers/optimizer_v2/adam.py:110: UserWarning: The `lr` argument is deprecated, use `learning_rate` instead.\n",
            "  super(Adam, self).__init__(name, **kwargs)\n"
          ]
        }
      ],
      "source": [
        "model.compile(layer_sizes, f_model, Domain, BCs)"
      ]
    },
    {
      "cell_type": "markdown",
      "metadata": {
        "id": "PFcXfcrV_vJD"
      },
      "source": [
        "Reproduce results from ***Raissi*** and the ***SA-PINNs*** paper, train for 10k newton and 10k adam"
      ]
    },
    {
      "cell_type": "code",
      "execution_count": 28,
      "metadata": {
        "colab": {
          "base_uri": "https://localhost:8080/",
          "height": 584,
          "referenced_widgets": [
            "5c5833b1823441c68e229aaa33d75efb",
            "0c5cfb7fd5044feea8f47a48d34cf020",
            "8e90bafc5e104409a1351b220408692d",
            "b1f00f919ab34a6d8d8002d17caee965",
            "ba6f2c87abc3473e8fbabfbbf0be75fc",
            "ba7e773b41444a0a977550add03221b6",
            "3f3d42b74bc74a29976aff6e818b967b",
            "6690c852258d4c5a8368ae37dd737856",
            "bfff5e4c69994162af6f02a985209fa4",
            "38d16cf478274f38a5ca6e6934738273",
            "758c8b1365854d38aa288108f673bfaf",
            "41abad4e52224e1b89291321ca1e1da3",
            "db2cd2bf1803496db8a0619a037c2e98",
            "018c68e5725c49f7b1b3bfab47dcc634",
            "c1617707765044ae9a9a402597a9f8c7",
            "abcf3bb1c1174f9691c99b6ba606e61b",
            "14d1724905424858b33e1b8da4449191",
            "cbe9cd422c3e47b595a035133072dedd",
            "ed6e0f874afb4e0782393a4e6d9ac5c6",
            "9e77cb02ba644adbaadb32f4fa2253c8",
            "0d110350cb0d4023b430853e5796c1de",
            "e443f7d8a8d44d95977b5c643017fe07"
          ]
        },
        "id": "XWSCy0whACOp",
        "outputId": "e827343a-3a1d-4c30-9cf5-24f38332cba7"
      },
      "outputs": [
        {
          "output_type": "stream",
          "name": "stdout",
          "text": [
            "    ____  _           \n",
            "   / __ \\(_)___  ____ \n",
            "  / /_/ / / __ \\/ __ \\\n",
            " / ____/ / / / / / / /\n",
            "/_/   /_/_/ /_/_/ /_/ \n",
            "                      \n",
            "\n",
            "Neural Network Model Summary\n",
            "\n",
            "Model: \"sequential\"\n",
            "_________________________________________________________________\n",
            "Layer (type)                 Output Shape              Param #   \n",
            "=================================================================\n",
            "dense (Dense)                (None, 100)               300       \n",
            "_________________________________________________________________\n",
            "dense_1 (Dense)              (None, 100)               10100     \n",
            "_________________________________________________________________\n",
            "dense_2 (Dense)              (None, 100)               10100     \n",
            "_________________________________________________________________\n",
            "dense_3 (Dense)              (None, 1)                 101       \n",
            "=================================================================\n",
            "Total params: 20,601\n",
            "Trainable params: 20,601\n",
            "Non-trainable params: 0\n",
            "_________________________________________________________________\n",
            "None\n",
            "Starting Adam training\n"
          ]
        },
        {
          "output_type": "display_data",
          "data": {
            "text/plain": [
              "  0%|          | 0/10000 [00:00<?, ?it/s]"
            ],
            "application/vnd.jupyter.widget-view+json": {
              "version_major": 2,
              "version_minor": 0,
              "model_id": "5c5833b1823441c68e229aaa33d75efb"
            }
          },
          "metadata": {}
        },
        {
          "output_type": "stream",
          "name": "stdout",
          "text": [
            "Starting L-BFGS training\n",
            "Executing eager-mode L-BFGS\n"
          ]
        },
        {
          "output_type": "display_data",
          "data": {
            "text/plain": [
              "  0%|          | 0/10000 [00:00<?, ?it/s]"
            ],
            "application/vnd.jupyter.widget-view+json": {
              "version_major": 2,
              "version_minor": 0,
              "model_id": "41abad4e52224e1b89291321ca1e1da3"
            }
          },
          "metadata": {}
        }
      ],
      "source": [
        "model.fit(tf_iter=10000, newton_iter=10000)"
      ]
    },
    {
      "cell_type": "code",
      "source": [
        "model.save(\"model_beam\")"
      ],
      "metadata": {
        "colab": {
          "base_uri": "https://localhost:8080/"
        },
        "id": "UbKe_ubqIQJ-",
        "outputId": "f0db802f-1184-4632-9b7c-70825bf4c8f1"
      },
      "execution_count": 29,
      "outputs": [
        {
          "output_type": "stream",
          "name": "stderr",
          "text": [
            "WARNING:tensorflow:Compiled the loaded model, but the compiled metrics have yet to be built. `model.compile_metrics` will be empty until you train or evaluate the model.\n"
          ]
        }
      ]
    },
    {
      "cell_type": "code",
      "execution_count": 30,
      "metadata": {
        "id": "sKPSmB5I83b3"
      },
      "outputs": [],
      "source": [
        "nx, nt = (150, 150)"
      ]
    },
    {
      "cell_type": "markdown",
      "metadata": {
        "id": "3Au1k8obCZFS"
      },
      "source": [
        "setup conditions"
      ]
    },
    {
      "cell_type": "code",
      "execution_count": 31,
      "metadata": {
        "id": "7EKsqbmRCgLE"
      },
      "outputs": [],
      "source": [
        "x_ = np.linspace(0, 1, nx)\n",
        "t_ = np.linspace(0, 1, nt)\n",
        "\n",
        "xv, yv = np.meshgrid(tf.squeeze(x_), tf.squeeze(t_))\n",
        "\n",
        "\n",
        "\n",
        "x = np.reshape(x_, (-1, 1))\n",
        "t = np.reshape(t_, (-1, 1))"
      ]
    },
    {
      "cell_type": "markdown",
      "metadata": {
        "id": "qs0mNhrQCoF9"
      },
      "source": [
        "Exacte solution"
      ]
    },
    {
      "cell_type": "code",
      "execution_count": 32,
      "metadata": {
        "id": "q1Wg3mMVCqK1"
      },
      "outputs": [],
      "source": [
        "z=f_real(xv,yv)\n",
        "\n",
        "Exact_u=z\n"
      ]
    },
    {
      "cell_type": "markdown",
      "metadata": {
        "id": "9r9V00XDCwdy"
      },
      "source": [
        "Flatten for use"
      ]
    },
    {
      "cell_type": "code",
      "execution_count": 33,
      "metadata": {
        "id": "xtQlTgIfCxzt"
      },
      "outputs": [],
      "source": [
        "u_star = Exact_u.flatten()[:, None]"
      ]
    },
    {
      "cell_type": "markdown",
      "source": [
        "create a mesh"
      ],
      "metadata": {
        "id": "V5Q62b17qO55"
      }
    },
    {
      "cell_type": "code",
      "execution_count": 34,
      "metadata": {
        "id": "xcBEjAkyDEPB"
      },
      "outputs": [],
      "source": [
        "x = Domain.domaindict[0]['xlinspace']\n",
        "t = Domain.domaindict[1][\"tlinspace\"]\n",
        "\n",
        "X, T = np.meshgrid(x, t)"
      ]
    },
    {
      "cell_type": "code",
      "execution_count": 35,
      "metadata": {
        "id": "1u1W24JnDXS6"
      },
      "outputs": [],
      "source": [
        "X_star = np.hstack((X.flatten()[:, None], T.flatten()[:, None]))"
      ]
    },
    {
      "cell_type": "markdown",
      "metadata": {
        "id": "YZPzxwUZDKDW"
      },
      "source": [
        "predict"
      ]
    },
    {
      "cell_type": "code",
      "execution_count": 36,
      "metadata": {
        "id": "yK0HNuJZDMY3"
      },
      "outputs": [],
      "source": [
        "u_pred, f_u_pred = model.predict(X_star)"
      ]
    },
    {
      "cell_type": "markdown",
      "metadata": {
        "id": "5AzsHt4JDnU-"
      },
      "source": [
        "Error margins"
      ]
    },
    {
      "cell_type": "code",
      "execution_count": 37,
      "metadata": {
        "colab": {
          "base_uri": "https://localhost:8080/"
        },
        "id": "lRrVSRg5Dq_9",
        "outputId": "e2eb291e-d7b8-41ec-bba5-6520d328aa5e"
      },
      "outputs": [
        {
          "output_type": "stream",
          "name": "stdout",
          "text": [
            "Error u: 9.555507e-01\n"
          ]
        }
      ],
      "source": [
        "error_u = helpers.find_L2_error(u_pred, u_star)\n",
        "print('Error u: %e' % (error_u))"
      ]
    },
    {
      "cell_type": "markdown",
      "metadata": {
        "id": "yumORV4qEe33"
      },
      "source": [
        "Plotting prediction, exact solution and residual"
      ]
    },
    {
      "cell_type": "code",
      "execution_count": 38,
      "metadata": {
        "colab": {
          "base_uri": "https://localhost:8080/",
          "height": 377
        },
        "id": "6fIUsxc_Eg50",
        "outputId": "4741633b-2407-4422-9e0b-44801e2b50ea"
      },
      "outputs": [
        {
          "output_type": "stream",
          "name": "stderr",
          "text": [
            "WARNING:matplotlib.legend:No handles with labels found to put in legend.\n"
          ]
        },
        {
          "output_type": "stream",
          "name": "stdout",
          "text": [
            "Exact_u (150, 150) domain (150,) (150, 150)\n"
          ]
        },
        {
          "output_type": "display_data",
          "data": {
            "text/plain": [
              "<Figure size 505.106x312.173 with 5 Axes>"
            ],
            "image/png": "[encoded data removed]"
          },
          "metadata": {
            "needs_background": "light"
          }
        }
      ],
      "source": [
        "U_pred = plotting.get_griddata(X_star, u_pred.flatten(), (X, T))\n",
        "FU_pred = plotting.get_griddata(X_star, f_u_pred.flatten(), (X, T))\n",
        "\n",
        "lb = np.array([0.0, 0.0])\n",
        "ub = np.array([1.0, 1.0])\n",
        "plotting.plot_solution_domain1D(model, [x, t], ub=ub, lb=lb, Exact_u=Exact_u)\n"
      ]
    },
    {
      "cell_type": "code",
      "execution_count": 39,
      "metadata": {
        "colab": {
          "base_uri": "https://localhost:8080/",
          "height": 276
        },
        "id": "E5klxACbI0ca",
        "outputId": "cdff75a6-2995-46d1-bb85-6d6e9ddb3e60"
      },
      "outputs": [
        {
          "output_type": "stream",
          "name": "stdout",
          "text": [
            "(150, 150) (150, 150) (150, 150)\n",
            "150\n"
          ]
        },
        {
          "output_type": "stream",
          "name": "stderr",
          "text": [
            "/content/PINN_Structural_health_monotoring/from_tensordiff/plotting.py:189: UserWarning: The following kwargs were not used by contour: 'aspect'\n",
            "  origin='lower', aspect='auto')\n"
          ]
        },
        {
          "output_type": "display_data",
          "data": {
            "text/plain": [
              "<Figure size 576x144 with 2 Axes>"
            ],
            "image/png": "[encoded data removed]"
          },
          "metadata": {
            "needs_background": "light"
          }
        }
      ],
      "source": [
        "plotting.plot3D(x,t,z,ub, lb)"
      ]
    },
    {
      "cell_type": "code",
      "execution_count": 40,
      "metadata": {
        "colab": {
          "base_uri": "https://localhost:8080/",
          "height": 175
        },
        "id": "c5sO02vfrCTF",
        "outputId": "b66c865e-c926-459a-f3ec-024a72d87fe6"
      },
      "outputs": [
        {
          "output_type": "display_data",
          "data": {
            "text/plain": [
              "<Figure size 576x144 with 2 Axes>"
            ],
            "image/png": "[encoded data removed]"
          },
          "metadata": {
            "needs_background": "light"
          }
        }
      ],
      "source": [
        "plotting.plot_residuals(FU_pred,lb,ub)"
      ]
    }
  ],
  "metadata": {
    "accelerator": "GPU",
    "colab": {
      "collapsed_sections": [],
      "name": "beamer_adaptive (1).ipynb",
      "provenance": []
    },
    "gpuClass": "standard",
    "kernelspec": {
      "display_name": "Python 3",
      "name": "python3"
    },
    "language_info": {
      "name": "python"
    },
    "widgets": {
      "application/vnd.jupyter.widget-state+json": {
        "5c5833b1823441c68e229aaa33d75efb": {
          "model_module": "@jupyter-widgets/controls",
          "model_name": "HBoxModel",
          "model_module_version": "1.5.0",
          "state": {
            "_dom_classes": [],
            "_model_module": "@jupyter-widgets/controls",
            "_model_module_version": "1.5.0",
            "_model_name": "HBoxModel",
            "_view_count": null,
            "_view_module": "@jupyter-widgets/controls",
            "_view_module_version": "1.5.0",
            "_view_name": "HBoxView",
            "box_style": "",
            "children": [
              "IPY_MODEL_0c5cfb7fd5044feea8f47a48d34cf020",
              "IPY_MODEL_8e90bafc5e104409a1351b220408692d",
              "IPY_MODEL_b1f00f919ab34a6d8d8002d17caee965"
            ],
            "layout": "IPY_MODEL_ba6f2c87abc3473e8fbabfbbf0be75fc"
          }
        },
        "0c5cfb7fd5044feea8f47a48d34cf020": {
          "model_module": "@jupyter-widgets/controls",
          "model_name": "HTMLModel",
          "model_module_version": "1.5.0",
          "state": {
            "_dom_classes": [],
            "_model_module": "@jupyter-widgets/controls",
            "_model_module_version": "1.5.0",
            "_model_name": "HTMLModel",
            "_view_count": null,
            "_view_module": "@jupyter-widgets/controls",
            "_view_module_version": "1.5.0",
            "_view_name": "HTMLView",
            "description": "",
            "description_tooltip": null,
            "layout": "IPY_MODEL_ba7e773b41444a0a977550add03221b6",
            "placeholder": "​",
            "style": "IPY_MODEL_3f3d42b74bc74a29976aff6e818b967b",
            "value": "Adam epoch 10000: 100%"
          }
        },
        "8e90bafc5e104409a1351b220408692d": {
          "model_module": "@jupyter-widgets/controls",
          "model_name": "FloatProgressModel",
          "model_module_version": "1.5.0",
          "state": {
            "_dom_classes": [],
            "_model_module": "@jupyter-widgets/controls",
            "_model_module_version": "1.5.0",
            "_model_name": "FloatProgressModel",
            "_view_count": null,
            "_view_module": "@jupyter-widgets/controls",
            "_view_module_version": "1.5.0",
            "_view_name": "ProgressView",
            "bar_style": "success",
            "description": "",
            "description_tooltip": null,
            "layout": "IPY_MODEL_6690c852258d4c5a8368ae37dd737856",
            "max": 10000,
            "min": 0,
            "orientation": "horizontal",
            "style": "IPY_MODEL_bfff5e4c69994162af6f02a985209fa4",
            "value": 10000
          }
        },
        "b1f00f919ab34a6d8d8002d17caee965": {
          "model_module": "@jupyter-widgets/controls",
          "model_name": "HTMLModel",
          "model_module_version": "1.5.0",
          "state": {
            "_dom_classes": [],
            "_model_module": "@jupyter-widgets/controls",
            "_model_module_version": "1.5.0",
            "_model_name": "HTMLModel",
            "_view_count": null,
            "_view_module": "@jupyter-widgets/controls",
            "_view_module_version": "1.5.0",
            "_view_name": "HTMLView",
            "description": "",
            "description_tooltip": null,
            "layout": "IPY_MODEL_38d16cf478274f38a5ca6e6934738273",
            "placeholder": "​",
            "style": "IPY_MODEL_758c8b1365854d38aa288108f673bfaf",
            "value": " 10000/10000 [07:18&lt;00:00, 24.32it/s, loss=0.777]"
          }
        },
        "ba6f2c87abc3473e8fbabfbbf0be75fc": {
          "model_module": "@jupyter-widgets/base",
          "model_name": "LayoutModel",
          "model_module_version": "1.2.0",
          "state": {
            "_model_module": "@jupyter-widgets/base",
            "_model_module_version": "1.2.0",
            "_model_name": "LayoutModel",
            "_view_count": null,
            "_view_module": "@jupyter-widgets/base",
            "_view_module_version": "1.2.0",
            "_view_name": "LayoutView",
            "align_content": null,
            "align_items": null,
            "align_self": null,
            "border": null,
            "bottom": null,
            "display": null,
            "flex": null,
            "flex_flow": null,
            "grid_area": null,
            "grid_auto_columns": null,
            "grid_auto_flow": null,
            "grid_auto_rows": null,
            "grid_column": null,
            "grid_gap": null,
            "grid_row": null,
            "grid_template_areas": null,
            "grid_template_columns": null,
            "grid_template_rows": null,
            "height": null,
            "justify_content": null,
            "justify_items": null,
            "left": null,
            "margin": null,
            "max_height": null,
            "max_width": null,
            "min_height": null,
            "min_width": null,
            "object_fit": null,
            "object_position": null,
            "order": null,
            "overflow": null,
            "overflow_x": null,
            "overflow_y": null,
            "padding": null,
            "right": null,
            "top": null,
            "visibility": null,
            "width": null
          }
        },
        "ba7e773b41444a0a977550add03221b6": {
          "model_module": "@jupyter-widgets/base",
          "model_name": "LayoutModel",
          "model_module_version": "1.2.0",
          "state": {
            "_model_module": "@jupyter-widgets/base",
            "_model_module_version": "1.2.0",
            "_model_name": "LayoutModel",
            "_view_count": null,
            "_view_module": "@jupyter-widgets/base",
            "_view_module_version": "1.2.0",
            "_view_name": "LayoutView",
            "align_content": null,
            "align_items": null,
            "align_self": null,
            "border": null,
            "bottom": null,
            "display": null,
            "flex": null,
            "flex_flow": null,
            "grid_area": null,
            "grid_auto_columns": null,
            "grid_auto_flow": null,
            "grid_auto_rows": null,
            "grid_column": null,
            "grid_gap": null,
            "grid_row": null,
            "grid_template_areas": null,
            "grid_template_columns": null,
            "grid_template_rows": null,
            "height": null,
            "justify_content": null,
            "justify_items": null,
            "left": null,
            "margin": null,
            "max_height": null,
            "max_width": null,
            "min_height": null,
            "min_width": null,
            "object_fit": null,
            "object_position": null,
            "order": null,
            "overflow": null,
            "overflow_x": null,
            "overflow_y": null,
            "padding": null,
            "right": null,
            "top": null,
            "visibility": null,
            "width": null
          }
        },
        "3f3d42b74bc74a29976aff6e818b967b": {
          "model_module": "@jupyter-widgets/controls",
          "model_name": "DescriptionStyleModel",
          "model_module_version": "1.5.0",
          "state": {
            "_model_module": "@jupyter-widgets/controls",
            "_model_module_version": "1.5.0",
            "_model_name": "DescriptionStyleModel",
            "_view_count": null,
            "_view_module": "@jupyter-widgets/base",
            "_view_module_version": "1.2.0",
            "_view_name": "StyleView",
            "description_width": ""
          }
        },
        "6690c852258d4c5a8368ae37dd737856": {
          "model_module": "@jupyter-widgets/base",
          "model_name": "LayoutModel",
          "model_module_version": "1.2.0",
          "state": {
            "_model_module": "@jupyter-widgets/base",
            "_model_module_version": "1.2.0",
            "_model_name": "LayoutModel",
            "_view_count": null,
            "_view_module": "@jupyter-widgets/base",
            "_view_module_version": "1.2.0",
            "_view_name": "LayoutView",
            "align_content": null,
            "align_items": null,
            "align_self": null,
            "border": null,
            "bottom": null,
            "display": null,
            "flex": null,
            "flex_flow": null,
            "grid_area": null,
            "grid_auto_columns": null,
            "grid_auto_flow": null,
            "grid_auto_rows": null,
            "grid_column": null,
            "grid_gap": null,
            "grid_row": null,
            "grid_template_areas": null,
            "grid_template_columns": null,
            "grid_template_rows": null,
            "height": null,
            "justify_content": null,
            "justify_items": null,
            "left": null,
            "margin": null,
            "max_height": null,
            "max_width": null,
            "min_height": null,
            "min_width": null,
            "object_fit": null,
            "object_position": null,
            "order": null,
            "overflow": null,
            "overflow_x": null,
            "overflow_y": null,
            "padding": null,
            "right": null,
            "top": null,
            "visibility": null,
            "width": null
          }
        },
        "bfff5e4c69994162af6f02a985209fa4": {
          "model_module": "@jupyter-widgets/controls",
          "model_name": "ProgressStyleModel",
          "model_module_version": "1.5.0",
          "state": {
            "_model_module": "@jupyter-widgets/controls",
            "_model_module_version": "1.5.0",
            "_model_name": "ProgressStyleModel",
            "_view_count": null,
            "_view_module": "@jupyter-widgets/base",
            "_view_module_version": "1.2.0",
            "_view_name": "StyleView",
            "bar_color": null,
            "description_width": ""
          }
        },
        "38d16cf478274f38a5ca6e6934738273": {
          "model_module": "@jupyter-widgets/base",
          "model_name": "LayoutModel",
          "model_module_version": "1.2.0",
          "state": {
            "_model_module": "@jupyter-widgets/base",
            "_model_module_version": "1.2.0",
            "_model_name": "LayoutModel",
            "_view_count": null,
            "_view_module": "@jupyter-widgets/base",
            "_view_module_version": "1.2.0",
            "_view_name": "LayoutView",
            "align_content": null,
            "align_items": null,
            "align_self": null,
            "border": null,
            "bottom": null,
            "display": null,
            "flex": null,
            "flex_flow": null,
            "grid_area": null,
            "grid_auto_columns": null,
            "grid_auto_flow": null,
            "grid_auto_rows": null,
            "grid_column": null,
            "grid_gap": null,
            "grid_row": null,
            "grid_template_areas": null,
            "grid_template_columns": null,
            "grid_template_rows": null,
            "height": null,
            "justify_content": null,
            "justify_items": null,
            "left": null,
            "margin": null,
            "max_height": null,
            "max_width": null,
            "min_height": null,
            "min_width": null,
            "object_fit": null,
            "object_position": null,
            "order": null,
            "overflow": null,
            "overflow_x": null,
            "overflow_y": null,
            "padding": null,
            "right": null,
            "top": null,
            "visibility": null,
            "width": null
          }
        },
        "758c8b1365854d38aa288108f673bfaf": {
          "model_module": "@jupyter-widgets/controls",
          "model_name": "DescriptionStyleModel",
          "model_module_version": "1.5.0",
          "state": {
            "_model_module": "@jupyter-widgets/controls",
            "_model_module_version": "1.5.0",
            "_model_name": "DescriptionStyleModel",
            "_view_count": null,
            "_view_module": "@jupyter-widgets/base",
            "_view_module_version": "1.2.0",
            "_view_name": "StyleView",
            "description_width": ""
          }
        },
        "41abad4e52224e1b89291321ca1e1da3": {
          "model_module": "@jupyter-widgets/controls",
          "model_name": "HBoxModel",
          "model_module_version": "1.5.0",
          "state": {
            "_dom_classes": [],
            "_model_module": "@jupyter-widgets/controls",
            "_model_module_version": "1.5.0",
            "_model_name": "HBoxModel",
            "_view_count": null,
            "_view_module": "@jupyter-widgets/controls",
            "_view_module_version": "1.5.0",
            "_view_name": "HBoxView",
            "box_style": "",
            "children": [
              "IPY_MODEL_db2cd2bf1803496db8a0619a037c2e98",
              "IPY_MODEL_018c68e5725c49f7b1b3bfab47dcc634",
              "IPY_MODEL_c1617707765044ae9a9a402597a9f8c7"
            ],
            "layout": "IPY_MODEL_abcf3bb1c1174f9691c99b6ba606e61b"
          }
        },
        "db2cd2bf1803496db8a0619a037c2e98": {
          "model_module": "@jupyter-widgets/controls",
          "model_name": "HTMLModel",
          "model_module_version": "1.5.0",
          "state": {
            "_dom_classes": [],
            "_model_module": "@jupyter-widgets/controls",
            "_model_module_version": "1.5.0",
            "_model_name": "HTMLModel",
            "_view_count": null,
            "_view_module": "@jupyter-widgets/controls",
            "_view_module_version": "1.5.0",
            "_view_name": "HTMLView",
            "description": "",
            "description_tooltip": null,
            "layout": "IPY_MODEL_14d1724905424858b33e1b8da4449191",
            "placeholder": "​",
            "style": "IPY_MODEL_cbe9cd422c3e47b595a035133072dedd",
            "value": "L-BFGS epoch 10000: 100%"
          }
        },
        "018c68e5725c49f7b1b3bfab47dcc634": {
          "model_module": "@jupyter-widgets/controls",
          "model_name": "FloatProgressModel",
          "model_module_version": "1.5.0",
          "state": {
            "_dom_classes": [],
            "_model_module": "@jupyter-widgets/controls",
            "_model_module_version": "1.5.0",
            "_model_name": "FloatProgressModel",
            "_view_count": null,
            "_view_module": "@jupyter-widgets/controls",
            "_view_module_version": "1.5.0",
            "_view_name": "ProgressView",
            "bar_style": "danger",
            "description": "",
            "description_tooltip": null,
            "layout": "IPY_MODEL_ed6e0f874afb4e0782393a4e6d9ac5c6",
            "max": 10000,
            "min": 0,
            "orientation": "horizontal",
            "style": "IPY_MODEL_9e77cb02ba644adbaadb32f4fa2253c8",
            "value": 9999
          }
        },
        "c1617707765044ae9a9a402597a9f8c7": {
          "model_module": "@jupyter-widgets/controls",
          "model_name": "HTMLModel",
          "model_module_version": "1.5.0",
          "state": {
            "_dom_classes": [],
            "_model_module": "@jupyter-widgets/controls",
            "_model_module_version": "1.5.0",
            "_model_name": "HTMLModel",
            "_view_count": null,
            "_view_module": "@jupyter-widgets/controls",
            "_view_module_version": "1.5.0",
            "_view_name": "HTMLView",
            "description": "",
            "description_tooltip": null,
            "layout": "IPY_MODEL_0d110350cb0d4023b430853e5796c1de",
            "placeholder": "​",
            "style": "IPY_MODEL_e443f7d8a8d44d95977b5c643017fe07",
            "value": " 9999/10000 [19:46&lt;00:00,  8.67it/s, loss=0.757]"
          }
        },
        "abcf3bb1c1174f9691c99b6ba606e61b": {
          "model_module": "@jupyter-widgets/base",
          "model_name": "LayoutModel",
          "model_module_version": "1.2.0",
          "state": {
            "_model_module": "@jupyter-widgets/base",
            "_model_module_version": "1.2.0",
            "_model_name": "LayoutModel",
            "_view_count": null,
            "_view_module": "@jupyter-widgets/base",
            "_view_module_version": "1.2.0",
            "_view_name": "LayoutView",
            "align_content": null,
            "align_items": null,
            "align_self": null,
            "border": null,
            "bottom": null,
            "display": null,
            "flex": null,
            "flex_flow": null,
            "grid_area": null,
            "grid_auto_columns": null,
            "grid_auto_flow": null,
            "grid_auto_rows": null,
            "grid_column": null,
            "grid_gap": null,
            "grid_row": null,
            "grid_template_areas": null,
            "grid_template_columns": null,
            "grid_template_rows": null,
            "height": null,
            "justify_content": null,
            "justify_items": null,
            "left": null,
            "margin": null,
            "max_height": null,
            "max_width": null,
            "min_height": null,
            "min_width": null,
            "object_fit": null,
            "object_position": null,
            "order": null,
            "overflow": null,
            "overflow_x": null,
            "overflow_y": null,
            "padding": null,
            "right": null,
            "top": null,
            "visibility": null,
            "width": null
          }
        },
        "14d1724905424858b33e1b8da4449191": {
          "model_module": "@jupyter-widgets/base",
          "model_name": "LayoutModel",
          "model_module_version": "1.2.0",
          "state": {
            "_model_module": "@jupyter-widgets/base",
            "_model_module_version": "1.2.0",
            "_model_name": "LayoutModel",
            "_view_count": null,
            "_view_module": "@jupyter-widgets/base",
            "_view_module_version": "1.2.0",
            "_view_name": "LayoutView",
            "align_content": null,
            "align_items": null,
            "align_self": null,
            "border": null,
            "bottom": null,
            "display": null,
            "flex": null,
            "flex_flow": null,
            "grid_area": null,
            "grid_auto_columns": null,
            "grid_auto_flow": null,
            "grid_auto_rows": null,
            "grid_column": null,
            "grid_gap": null,
            "grid_row": null,
            "grid_template_areas": null,
            "grid_template_columns": null,
            "grid_template_rows": null,
            "height": null,
            "justify_content": null,
            "justify_items": null,
            "left": null,
            "margin": null,
            "max_height": null,
            "max_width": null,
            "min_height": null,
            "min_width": null,
            "object_fit": null,
            "object_position": null,
            "order": null,
            "overflow": null,
            "overflow_x": null,
            "overflow_y": null,
            "padding": null,
            "right": null,
            "top": null,
            "visibility": null,
            "width": null
          }
        },
        "cbe9cd422c3e47b595a035133072dedd": {
          "model_module": "@jupyter-widgets/controls",
          "model_name": "DescriptionStyleModel",
          "model_module_version": "1.5.0",
          "state": {
            "_model_module": "@jupyter-widgets/controls",
            "_model_module_version": "1.5.0",
            "_model_name": "DescriptionStyleModel",
            "_view_count": null,
            "_view_module": "@jupyter-widgets/base",
            "_view_module_version": "1.2.0",
            "_view_name": "StyleView",
            "description_width": ""
          }
        },
        "ed6e0f874afb4e0782393a4e6d9ac5c6": {
          "model_module": "@jupyter-widgets/base",
          "model_name": "LayoutModel",
          "model_module_version": "1.2.0",
          "state": {
            "_model_module": "@jupyter-widgets/base",
            "_model_module_version": "1.2.0",
            "_model_name": "LayoutModel",
            "_view_count": null,
            "_view_module": "@jupyter-widgets/base",
            "_view_module_version": "1.2.0",
            "_view_name": "LayoutView",
            "align_content": null,
            "align_items": null,
            "align_self": null,
            "border": null,
            "bottom": null,
            "display": null,
            "flex": null,
            "flex_flow": null,
            "grid_area": null,
            "grid_auto_columns": null,
            "grid_auto_flow": null,
            "grid_auto_rows": null,
            "grid_column": null,
            "grid_gap": null,
            "grid_row": null,
            "grid_template_areas": null,
            "grid_template_columns": null,
            "grid_template_rows": null,
            "height": null,
            "justify_content": null,
            "justify_items": null,
            "left": null,
            "margin": null,
            "max_height": null,
            "max_width": null,
            "min_height": null,
            "min_width": null,
            "object_fit": null,
            "object_position": null,
            "order": null,
            "overflow": null,
            "overflow_x": null,
            "overflow_y": null,
            "padding": null,
            "right": null,
            "top": null,
            "visibility": null,
            "width": null
          }
        },
        "9e77cb02ba644adbaadb32f4fa2253c8": {
          "model_module": "@jupyter-widgets/controls",
          "model_name": "ProgressStyleModel",
          "model_module_version": "1.5.0",
          "state": {
            "_model_module": "@jupyter-widgets/controls",
            "_model_module_version": "1.5.0",
            "_model_name": "ProgressStyleModel",
            "_view_count": null,
            "_view_module": "@jupyter-widgets/base",
            "_view_module_version": "1.2.0",
            "_view_name": "StyleView",
            "bar_color": null,
            "description_width": ""
          }
        },
        "0d110350cb0d4023b430853e5796c1de": {
          "model_module": "@jupyter-widgets/base",
          "model_name": "LayoutModel",
          "model_module_version": "1.2.0",
          "state": {
            "_model_module": "@jupyter-widgets/base",
            "_model_module_version": "1.2.0",
            "_model_name": "LayoutModel",
            "_view_count": null,
            "_view_module": "@jupyter-widgets/base",
            "_view_module_version": "1.2.0",
            "_view_name": "LayoutView",
            "align_content": null,
            "align_items": null,
            "align_self": null,
            "border": null,
            "bottom": null,
            "display": null,
            "flex": null,
            "flex_flow": null,
            "grid_area": null,
            "grid_auto_columns": null,
            "grid_auto_flow": null,
            "grid_auto_rows": null,
            "grid_column": null,
            "grid_gap": null,
            "grid_row": null,
            "grid_template_areas": null,
            "grid_template_columns": null,
            "grid_template_rows": null,
            "height": null,
            "justify_content": null,
            "justify_items": null,
            "left": null,
            "margin": null,
            "max_height": null,
            "max_width": null,
            "min_height": null,
            "min_width": null,
            "object_fit": null,
            "object_position": null,
            "order": null,
            "overflow": null,
            "overflow_x": null,
            "overflow_y": null,
            "padding": null,
            "right": null,
            "top": null,
            "visibility": null,
            "width": null
          }
        },
        "e443f7d8a8d44d95977b5c643017fe07": {
          "model_module": "@jupyter-widgets/controls",
          "model_name": "DescriptionStyleModel",
          "model_module_version": "1.5.0",
          "state": {
            "_model_module": "@jupyter-widgets/controls",
            "_model_module_version": "1.5.0",
            "_model_name": "DescriptionStyleModel",
            "_view_count": null,
            "_view_module": "@jupyter-widgets/base",
            "_view_module_version": "1.2.0",
            "_view_name": "StyleView",
            "description_width": ""
          }
        }
      }
    }
  },
  "nbformat": 4,
  "nbformat_minor": 0
}